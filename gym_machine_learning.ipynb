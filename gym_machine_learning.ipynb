{
 "cells": [
  {
   "cell_type": "markdown",
   "metadata": {},
   "source": [
    "# Descripción del proyecto"
   ]
  },
  {
   "cell_type": "markdown",
   "metadata": {},
   "source": [
    "Descripción del proyecto\n",
    "La cadena de gimnasios Model Fitness está desarrollando una estrategia de interacción con clientes basada en datos analíticos.\n",
    "\n",
    "Uno de los problemas más comunes que enfrentan los gimnasios y otros servicios es la pérdida de clientes. ¿Cómo descubres si un/a cliente ya no está contigo? Puedes calcular la pérdida en función de las personas que se deshacen de sus cuentas o no renuevan sus contratos. Sin embargo, a veces no es obvio que un/a cliente se haya ido: puede que se vaya de puntillas.\n",
    "\n",
    "Los indicadores de pérdida varían de un campo a otro. Si un usuario o una usuaria compra en una tienda en línea con poca frecuencia, pero con regularidad, no se puede decir que ha huido. Pero si durante dos semanas no ha abierto un canal que se actualiza a diario, es motivo de preocupación: es posible que tu seguidor o seguidor/a se haya aburrido y te haya abandonado.\n",
    "\n",
    "En el caso de un gimnasio, tiene sentido decir que un/a cliente se ha ido si no viene durante un mes. Por supuesto, es posible que estén en Cancún y retomen sus visitas cuando regresen, pero ese no es un caso típico. Por lo general, si un/a cliente se une, viene varias veces y luego desaparece, es poco probable que regrese.\n",
    "\n",
    "Con el fin de combatir la cancelación, Model Fitness ha digitalizado varios de sus perfiles de clientes. Tu tarea consiste en analizarlos y elaborar una estrategia de retención de clientes."
   ]
  },
  {
   "cell_type": "markdown",
   "metadata": {},
   "source": [
    "## DESCRIPCIÓN DE LOS DATOS"
   ]
  },
  {
   "cell_type": "markdown",
   "metadata": {},
   "source": [
    "Instrucciones para completar el proyecto\n",
    "Paso 1. Descargar los datos\n",
    "Model Fitness te aportó archivos CSV que contienen los datos sobre la cancelación de un mes en concreto e información del mes que lo precedía. El dataset incluye los siguientes campos:"
   ]
  },
  {
   "cell_type": "code",
   "execution_count": 1,
   "metadata": {},
   "outputs": [],
   "source": [
    "#Importar librerias\n",
    "from sklearn.preprocessing import StandardScaler\n",
    "from sklearn.model_selection import train_test_split\n",
    "from sklearn.linear_model import LogisticRegression\n",
    "from sklearn.ensemble import RandomForestClassifier\n",
    "from sklearn.metrics import accuracy_score, precision_score, recall_score\n",
    "#from sklearn.tree import DecisionTreeRegressor\n",
    "from sklearn.cluster import KMeans\n",
    "from scipy.cluster.hierarchy import dendrogram, linkage\n",
    "\n",
    "import pandas as pd\n",
    "import matplotlib.pyplot as plt\n",
    "import seaborn as sns\n"
   ]
  },
  {
   "cell_type": "code",
   "execution_count": 2,
   "metadata": {},
   "outputs": [],
   "source": [
    "#Importar datasets\n",
    "gym = pd.read_csv('/datasets/gym_churn_us.csv')"
   ]
  },
  {
   "cell_type": "code",
   "execution_count": 3,
   "metadata": {},
   "outputs": [
    {
     "name": "stdout",
     "output_type": "stream",
     "text": [
      "<class 'pandas.core.frame.DataFrame'>\n",
      "RangeIndex: 4000 entries, 0 to 3999\n",
      "Data columns (total 14 columns):\n",
      " #   Column                             Non-Null Count  Dtype  \n",
      "---  ------                             --------------  -----  \n",
      " 0   gender                             4000 non-null   int64  \n",
      " 1   Near_Location                      4000 non-null   int64  \n",
      " 2   Partner                            4000 non-null   int64  \n",
      " 3   Promo_friends                      4000 non-null   int64  \n",
      " 4   Phone                              4000 non-null   int64  \n",
      " 5   Contract_period                    4000 non-null   int64  \n",
      " 6   Group_visits                       4000 non-null   int64  \n",
      " 7   Age                                4000 non-null   int64  \n",
      " 8   Avg_additional_charges_total       4000 non-null   float64\n",
      " 9   Month_to_end_contract              4000 non-null   float64\n",
      " 10  Lifetime                           4000 non-null   int64  \n",
      " 11  Avg_class_frequency_total          4000 non-null   float64\n",
      " 12  Avg_class_frequency_current_month  4000 non-null   float64\n",
      " 13  Churn                              4000 non-null   int64  \n",
      "dtypes: float64(4), int64(10)\n",
      "memory usage: 437.6 KB\n"
     ]
    }
   ],
   "source": [
    "gym.info()"
   ]
  },
  {
   "cell_type": "markdown",
   "metadata": {},
   "source": [
    "\n",
    "Campos de dataset actuales:\n",
    "Datos del usuario del mes anterior\n",
    "- 'gender'.\n",
    "- 'Near_Location' — si el/la usuario/a vive o trabaja en el vecindario donde se encuentra el gimnasio.\n",
    "- 'Partner' — si el/la usuario/a trabaja en una compañía asociada (el gimnasio tiene empresas asociadas cuyos empleados obtienen descuentos; en esos casos el gimnasio almacena información sobre los empleadores de los clientes).\n",
    "- Promo_friends — si el/la usuario/a originalmente se inscribió mediante una oferta “trae a un/a amigo/a” (se utilizó el código promocional de un/a amigo/a cuando pagaron el primer abono).\n",
    "- 'Phone' — si el/la usuario/a aportó el número de teléfono.\n",
    "- 'Age'.\n",
    "- 'Lifetime' — el tiempo (en meses) desde que el/la usuario/a llegó por primera vez al gimnasio.\n",
    "Datos del registro de visitas y compras y datos sobre el estado actual de la membresía:\n",
    "- 'Contract_period' — 1 mes, 3 meses, 6 meses o 1 año.\n",
    "- 'Month_to_end_contract' — los meses que faltan hasta que expire el contrato.\n",
    "- 'Group_visits' — si el/la usuario/a participa en sesiones grupales.\n",
    "- 'Avg_class_frequency_total' — frecuencia media de visitas por semana a lo largo de la vida del cliente.\n",
    "- 'Avg_class_frequency_current_month' — frecuencia media de visitas por semana durante el mes en curso.\n",
    "- 'Avg_additional_charges_total' — cantidad total de dinero gastado en otros servicios del gimnasio: cafetería, productos deportivos, cosméticos, masajes, etc.\n",
    "- 'Churn' — la cancelación para el mes en cuestión"
   ]
  },
  {
   "cell_type": "code",
   "execution_count": 4,
   "metadata": {},
   "outputs": [
    {
     "name": "stdout",
     "output_type": "stream",
     "text": [
      "      gender  Near_Location  Partner  Promo_friends  Phone  Contract_period  \\\n",
      "0          1              1        1              1      0                6   \n",
      "1          0              1        0              0      1               12   \n",
      "2          0              1        1              0      1                1   \n",
      "3          0              1        1              1      1               12   \n",
      "4          1              1        1              1      1                1   \n",
      "...      ...            ...      ...            ...    ...              ...   \n",
      "3995       1              1        1              0      1               12   \n",
      "3996       0              1        0              0      1                1   \n",
      "3997       1              1        1              1      1               12   \n",
      "3998       0              1        1              1      1                6   \n",
      "3999       1              0        1              0      0               12   \n",
      "\n",
      "      Group_visits  Age  Avg_additional_charges_total  Month_to_end_contract  \\\n",
      "0                1   29                     14.227470                    5.0   \n",
      "1                1   31                    113.202938                   12.0   \n",
      "2                0   28                    129.448479                    1.0   \n",
      "3                1   33                     62.669863                   12.0   \n",
      "4                0   26                    198.362265                    1.0   \n",
      "...            ...  ...                           ...                    ...   \n",
      "3995             0   33                      2.406023                   12.0   \n",
      "3996             1   29                     68.883764                    1.0   \n",
      "3997             0   28                     78.250542                   11.0   \n",
      "3998             0   32                     61.912657                    5.0   \n",
      "3999             1   30                    178.861814                   12.0   \n",
      "\n",
      "      Lifetime  Avg_class_frequency_total  Avg_class_frequency_current_month  \\\n",
      "0            3                   0.020398                           0.000000   \n",
      "1            7                   1.922936                           1.910244   \n",
      "2            2                   1.859098                           1.736502   \n",
      "3            2                   3.205633                           3.357215   \n",
      "4            3                   1.113884                           1.120078   \n",
      "...        ...                        ...                                ...   \n",
      "3995         8                   2.284497                           2.349070   \n",
      "3996         1                   1.277168                           0.292859   \n",
      "3997         2                   2.786146                           2.831439   \n",
      "3998         3                   1.630108                           1.596237   \n",
      "3999         1                   1.101832                           1.035270   \n",
      "\n",
      "      Churn  \n",
      "0         0  \n",
      "1         0  \n",
      "2         0  \n",
      "3         0  \n",
      "4         0  \n",
      "...     ...  \n",
      "3995      0  \n",
      "3996      1  \n",
      "3997      0  \n",
      "3998      0  \n",
      "3999      0  \n",
      "\n",
      "[4000 rows x 14 columns]\n"
     ]
    }
   ],
   "source": [
    "print(gym)"
   ]
  },
  {
   "cell_type": "markdown",
   "metadata": {},
   "source": [
    "## ANÁLISIS EXPLORATORIO DE DATOS (EDA)\n"
   ]
  },
  {
   "cell_type": "code",
   "execution_count": 5,
   "metadata": {},
   "outputs": [
    {
     "data": {
      "text/plain": [
       "Index(['gender', 'Near_Location', 'Partner', 'Promo_friends', 'Phone',\n",
       "       'Contract_period', 'Group_visits', 'Age',\n",
       "       'Avg_additional_charges_total', 'Month_to_end_contract', 'Lifetime',\n",
       "       'Avg_class_frequency_total', 'Avg_class_frequency_current_month',\n",
       "       'Churn'],\n",
       "      dtype='object')"
      ]
     },
     "execution_count": 5,
     "metadata": {},
     "output_type": "execute_result"
    }
   ],
   "source": [
    "#Leemos las columnas\n",
    "gym.columns"
   ]
  },
  {
   "cell_type": "markdown",
   "metadata": {},
   "source": [
    "Como podemos observar tenemos combinación de de mayusculas y minusculas, pasaremos todas las columnas por un bucle para que todas queden bajo el mismo formato.\n",
    "\n"
   ]
  },
  {
   "cell_type": "code",
   "execution_count": 6,
   "metadata": {},
   "outputs": [
    {
     "data": {
      "text/plain": [
       "Index(['gender', 'near_location', 'partner', 'promo_friends', 'phone',\n",
       "       'contract_period', 'group_visits', 'age',\n",
       "       'avg_additional_charges_total', 'month_to_end_contract', 'lifetime',\n",
       "       'avg_class_frequency_total', 'avg_class_frequency_current_month',\n",
       "       'churn'],\n",
       "      dtype='object')"
      ]
     },
     "execution_count": 6,
     "metadata": {},
     "output_type": "execute_result"
    }
   ],
   "source": [
    "#Se crea lista para almacenar los nuevos nombres\n",
    "gym_new_name_col=[]\n",
    "\n",
    "#Se crea bucle para iterar los nombres\n",
    "\n",
    "for old_name in gym.columns:\n",
    "    name_stripped = old_name.strip()\n",
    "    name_lowered = name_stripped.lower()\n",
    "    name_no_spaces = name_lowered.replace(' ', '_')\n",
    "    gym_new_name_col.append(name_no_spaces)\n",
    "#Se reemplazan los nombres con la lista que contiene los nuevos\n",
    "gym.columns= gym_new_name_col\n",
    "gym.columns"
   ]
  },
  {
   "cell_type": "markdown",
   "metadata": {},
   "source": [
    "### ¿contiene alguna característica ausente?"
   ]
  },
  {
   "cell_type": "code",
   "execution_count": 7,
   "metadata": {},
   "outputs": [
    {
     "data": {
      "text/plain": [
       "gender                               0\n",
       "near_location                        0\n",
       "partner                              0\n",
       "promo_friends                        0\n",
       "phone                                0\n",
       "contract_period                      0\n",
       "group_visits                         0\n",
       "age                                  0\n",
       "avg_additional_charges_total         0\n",
       "month_to_end_contract                0\n",
       "lifetime                             0\n",
       "avg_class_frequency_total            0\n",
       "avg_class_frequency_current_month    0\n",
       "churn                                0\n",
       "dtype: int64"
      ]
     },
     "execution_count": 7,
     "metadata": {},
     "output_type": "execute_result"
    }
   ],
   "source": [
    "#Revisamos si tenemos valores ausentes\n",
    "gym.isna().sum()"
   ]
  },
  {
   "cell_type": "markdown",
   "metadata": {},
   "source": [
    "No se encontraron valores ausentes por lo que podemos usar todos nuestros datos."
   ]
  },
  {
   "cell_type": "code",
   "execution_count": 8,
   "metadata": {},
   "outputs": [
    {
     "data": {
      "text/plain": [
       "0"
      ]
     },
     "execution_count": 8,
     "metadata": {},
     "output_type": "execute_result"
    }
   ],
   "source": [
    "gym.duplicated().sum()"
   ]
  },
  {
   "cell_type": "markdown",
   "metadata": {},
   "source": [
    "Tampoco tenemos valores duplicados en este dataframe"
   ]
  },
  {
   "cell_type": "markdown",
   "metadata": {},
   "source": [
    "### Estudia los valores promedio y la desviación estándar (utiliza el método describe())."
   ]
  },
  {
   "cell_type": "code",
   "execution_count": 9,
   "metadata": {},
   "outputs": [
    {
     "data": {
      "text/html": [
       "<div>\n",
       "<style scoped>\n",
       "    .dataframe tbody tr th:only-of-type {\n",
       "        vertical-align: middle;\n",
       "    }\n",
       "\n",
       "    .dataframe tbody tr th {\n",
       "        vertical-align: top;\n",
       "    }\n",
       "\n",
       "    .dataframe thead th {\n",
       "        text-align: right;\n",
       "    }\n",
       "</style>\n",
       "<table border=\"1\" class=\"dataframe\">\n",
       "  <thead>\n",
       "    <tr style=\"text-align: right;\">\n",
       "      <th></th>\n",
       "      <th>gender</th>\n",
       "      <th>near_location</th>\n",
       "      <th>partner</th>\n",
       "      <th>promo_friends</th>\n",
       "      <th>phone</th>\n",
       "      <th>contract_period</th>\n",
       "      <th>group_visits</th>\n",
       "      <th>age</th>\n",
       "      <th>avg_additional_charges_total</th>\n",
       "      <th>month_to_end_contract</th>\n",
       "      <th>lifetime</th>\n",
       "      <th>avg_class_frequency_total</th>\n",
       "      <th>avg_class_frequency_current_month</th>\n",
       "      <th>churn</th>\n",
       "    </tr>\n",
       "  </thead>\n",
       "  <tbody>\n",
       "    <tr>\n",
       "      <th>count</th>\n",
       "      <td>4000.000000</td>\n",
       "      <td>4000.000000</td>\n",
       "      <td>4000.000000</td>\n",
       "      <td>4000.000000</td>\n",
       "      <td>4000.000000</td>\n",
       "      <td>4000.000000</td>\n",
       "      <td>4000.000000</td>\n",
       "      <td>4000.000000</td>\n",
       "      <td>4000.000000</td>\n",
       "      <td>4000.000000</td>\n",
       "      <td>4000.000000</td>\n",
       "      <td>4000.000000</td>\n",
       "      <td>4000.000000</td>\n",
       "      <td>4000.000000</td>\n",
       "    </tr>\n",
       "    <tr>\n",
       "      <th>mean</th>\n",
       "      <td>0.510250</td>\n",
       "      <td>0.845250</td>\n",
       "      <td>0.486750</td>\n",
       "      <td>0.308500</td>\n",
       "      <td>0.903500</td>\n",
       "      <td>4.681250</td>\n",
       "      <td>0.412250</td>\n",
       "      <td>29.184250</td>\n",
       "      <td>146.943728</td>\n",
       "      <td>4.322750</td>\n",
       "      <td>3.724750</td>\n",
       "      <td>1.879020</td>\n",
       "      <td>1.767052</td>\n",
       "      <td>0.265250</td>\n",
       "    </tr>\n",
       "    <tr>\n",
       "      <th>std</th>\n",
       "      <td>0.499957</td>\n",
       "      <td>0.361711</td>\n",
       "      <td>0.499887</td>\n",
       "      <td>0.461932</td>\n",
       "      <td>0.295313</td>\n",
       "      <td>4.549706</td>\n",
       "      <td>0.492301</td>\n",
       "      <td>3.258367</td>\n",
       "      <td>96.355602</td>\n",
       "      <td>4.191297</td>\n",
       "      <td>3.749267</td>\n",
       "      <td>0.972245</td>\n",
       "      <td>1.052906</td>\n",
       "      <td>0.441521</td>\n",
       "    </tr>\n",
       "    <tr>\n",
       "      <th>min</th>\n",
       "      <td>0.000000</td>\n",
       "      <td>0.000000</td>\n",
       "      <td>0.000000</td>\n",
       "      <td>0.000000</td>\n",
       "      <td>0.000000</td>\n",
       "      <td>1.000000</td>\n",
       "      <td>0.000000</td>\n",
       "      <td>18.000000</td>\n",
       "      <td>0.148205</td>\n",
       "      <td>1.000000</td>\n",
       "      <td>0.000000</td>\n",
       "      <td>0.000000</td>\n",
       "      <td>0.000000</td>\n",
       "      <td>0.000000</td>\n",
       "    </tr>\n",
       "    <tr>\n",
       "      <th>25%</th>\n",
       "      <td>0.000000</td>\n",
       "      <td>1.000000</td>\n",
       "      <td>0.000000</td>\n",
       "      <td>0.000000</td>\n",
       "      <td>1.000000</td>\n",
       "      <td>1.000000</td>\n",
       "      <td>0.000000</td>\n",
       "      <td>27.000000</td>\n",
       "      <td>68.868830</td>\n",
       "      <td>1.000000</td>\n",
       "      <td>1.000000</td>\n",
       "      <td>1.180875</td>\n",
       "      <td>0.963003</td>\n",
       "      <td>0.000000</td>\n",
       "    </tr>\n",
       "    <tr>\n",
       "      <th>50%</th>\n",
       "      <td>1.000000</td>\n",
       "      <td>1.000000</td>\n",
       "      <td>0.000000</td>\n",
       "      <td>0.000000</td>\n",
       "      <td>1.000000</td>\n",
       "      <td>1.000000</td>\n",
       "      <td>0.000000</td>\n",
       "      <td>29.000000</td>\n",
       "      <td>136.220159</td>\n",
       "      <td>1.000000</td>\n",
       "      <td>3.000000</td>\n",
       "      <td>1.832768</td>\n",
       "      <td>1.719574</td>\n",
       "      <td>0.000000</td>\n",
       "    </tr>\n",
       "    <tr>\n",
       "      <th>75%</th>\n",
       "      <td>1.000000</td>\n",
       "      <td>1.000000</td>\n",
       "      <td>1.000000</td>\n",
       "      <td>1.000000</td>\n",
       "      <td>1.000000</td>\n",
       "      <td>6.000000</td>\n",
       "      <td>1.000000</td>\n",
       "      <td>31.000000</td>\n",
       "      <td>210.949625</td>\n",
       "      <td>6.000000</td>\n",
       "      <td>5.000000</td>\n",
       "      <td>2.536078</td>\n",
       "      <td>2.510336</td>\n",
       "      <td>1.000000</td>\n",
       "    </tr>\n",
       "    <tr>\n",
       "      <th>max</th>\n",
       "      <td>1.000000</td>\n",
       "      <td>1.000000</td>\n",
       "      <td>1.000000</td>\n",
       "      <td>1.000000</td>\n",
       "      <td>1.000000</td>\n",
       "      <td>12.000000</td>\n",
       "      <td>1.000000</td>\n",
       "      <td>41.000000</td>\n",
       "      <td>552.590740</td>\n",
       "      <td>12.000000</td>\n",
       "      <td>31.000000</td>\n",
       "      <td>6.023668</td>\n",
       "      <td>6.146783</td>\n",
       "      <td>1.000000</td>\n",
       "    </tr>\n",
       "  </tbody>\n",
       "</table>\n",
       "</div>"
      ],
      "text/plain": [
       "            gender  near_location      partner  promo_friends        phone  \\\n",
       "count  4000.000000    4000.000000  4000.000000    4000.000000  4000.000000   \n",
       "mean      0.510250       0.845250     0.486750       0.308500     0.903500   \n",
       "std       0.499957       0.361711     0.499887       0.461932     0.295313   \n",
       "min       0.000000       0.000000     0.000000       0.000000     0.000000   \n",
       "25%       0.000000       1.000000     0.000000       0.000000     1.000000   \n",
       "50%       1.000000       1.000000     0.000000       0.000000     1.000000   \n",
       "75%       1.000000       1.000000     1.000000       1.000000     1.000000   \n",
       "max       1.000000       1.000000     1.000000       1.000000     1.000000   \n",
       "\n",
       "       contract_period  group_visits          age  \\\n",
       "count      4000.000000   4000.000000  4000.000000   \n",
       "mean          4.681250      0.412250    29.184250   \n",
       "std           4.549706      0.492301     3.258367   \n",
       "min           1.000000      0.000000    18.000000   \n",
       "25%           1.000000      0.000000    27.000000   \n",
       "50%           1.000000      0.000000    29.000000   \n",
       "75%           6.000000      1.000000    31.000000   \n",
       "max          12.000000      1.000000    41.000000   \n",
       "\n",
       "       avg_additional_charges_total  month_to_end_contract     lifetime  \\\n",
       "count                   4000.000000            4000.000000  4000.000000   \n",
       "mean                     146.943728               4.322750     3.724750   \n",
       "std                       96.355602               4.191297     3.749267   \n",
       "min                        0.148205               1.000000     0.000000   \n",
       "25%                       68.868830               1.000000     1.000000   \n",
       "50%                      136.220159               1.000000     3.000000   \n",
       "75%                      210.949625               6.000000     5.000000   \n",
       "max                      552.590740              12.000000    31.000000   \n",
       "\n",
       "       avg_class_frequency_total  avg_class_frequency_current_month  \\\n",
       "count                4000.000000                        4000.000000   \n",
       "mean                    1.879020                           1.767052   \n",
       "std                     0.972245                           1.052906   \n",
       "min                     0.000000                           0.000000   \n",
       "25%                     1.180875                           0.963003   \n",
       "50%                     1.832768                           1.719574   \n",
       "75%                     2.536078                           2.510336   \n",
       "max                     6.023668                           6.146783   \n",
       "\n",
       "             churn  \n",
       "count  4000.000000  \n",
       "mean      0.265250  \n",
       "std       0.441521  \n",
       "min       0.000000  \n",
       "25%       0.000000  \n",
       "50%       0.000000  \n",
       "75%       1.000000  \n",
       "max       1.000000  "
      ]
     },
     "execution_count": 9,
     "metadata": {},
     "output_type": "execute_result"
    }
   ],
   "source": [
    "gym.describe()"
   ]
  },
  {
   "cell_type": "markdown",
   "metadata": {},
   "source": []
  },
  {
   "cell_type": "markdown",
   "metadata": {},
   "source": [
    "### Observa los valores medios de las características en dos grupos: para las personas que se fueron (cancelación) y para las que se quedaron (utiliza el método groupby())."
   ]
  },
  {
   "cell_type": "code",
   "execution_count": 10,
   "metadata": {
    "scrolled": true
   },
   "outputs": [
    {
     "data": {
      "text/html": [
       "<div>\n",
       "<style scoped>\n",
       "    .dataframe tbody tr th:only-of-type {\n",
       "        vertical-align: middle;\n",
       "    }\n",
       "\n",
       "    .dataframe tbody tr th {\n",
       "        vertical-align: top;\n",
       "    }\n",
       "\n",
       "    .dataframe thead th {\n",
       "        text-align: right;\n",
       "    }\n",
       "</style>\n",
       "<table border=\"1\" class=\"dataframe\">\n",
       "  <thead>\n",
       "    <tr style=\"text-align: right;\">\n",
       "      <th></th>\n",
       "      <th>gender</th>\n",
       "      <th>near_location</th>\n",
       "      <th>partner</th>\n",
       "      <th>promo_friends</th>\n",
       "      <th>phone</th>\n",
       "      <th>contract_period</th>\n",
       "      <th>group_visits</th>\n",
       "      <th>age</th>\n",
       "      <th>avg_additional_charges_total</th>\n",
       "      <th>month_to_end_contract</th>\n",
       "      <th>lifetime</th>\n",
       "      <th>avg_class_frequency_total</th>\n",
       "      <th>avg_class_frequency_current_month</th>\n",
       "    </tr>\n",
       "    <tr>\n",
       "      <th>churn</th>\n",
       "      <th></th>\n",
       "      <th></th>\n",
       "      <th></th>\n",
       "      <th></th>\n",
       "      <th></th>\n",
       "      <th></th>\n",
       "      <th></th>\n",
       "      <th></th>\n",
       "      <th></th>\n",
       "      <th></th>\n",
       "      <th></th>\n",
       "      <th></th>\n",
       "      <th></th>\n",
       "    </tr>\n",
       "  </thead>\n",
       "  <tbody>\n",
       "    <tr>\n",
       "      <th>0</th>\n",
       "      <td>0.510037</td>\n",
       "      <td>0.873086</td>\n",
       "      <td>0.534195</td>\n",
       "      <td>0.353522</td>\n",
       "      <td>0.903709</td>\n",
       "      <td>5.747193</td>\n",
       "      <td>0.464103</td>\n",
       "      <td>29.976523</td>\n",
       "      <td>158.445715</td>\n",
       "      <td>5.283089</td>\n",
       "      <td>4.711807</td>\n",
       "      <td>2.024876</td>\n",
       "      <td>2.027882</td>\n",
       "    </tr>\n",
       "    <tr>\n",
       "      <th>1</th>\n",
       "      <td>0.510839</td>\n",
       "      <td>0.768143</td>\n",
       "      <td>0.355325</td>\n",
       "      <td>0.183789</td>\n",
       "      <td>0.902922</td>\n",
       "      <td>1.728558</td>\n",
       "      <td>0.268615</td>\n",
       "      <td>26.989632</td>\n",
       "      <td>115.082899</td>\n",
       "      <td>1.662582</td>\n",
       "      <td>0.990575</td>\n",
       "      <td>1.474995</td>\n",
       "      <td>1.044546</td>\n",
       "    </tr>\n",
       "  </tbody>\n",
       "</table>\n",
       "</div>"
      ],
      "text/plain": [
       "         gender  near_location   partner  promo_friends     phone  \\\n",
       "churn                                                               \n",
       "0      0.510037       0.873086  0.534195       0.353522  0.903709   \n",
       "1      0.510839       0.768143  0.355325       0.183789  0.902922   \n",
       "\n",
       "       contract_period  group_visits        age  avg_additional_charges_total  \\\n",
       "churn                                                                           \n",
       "0             5.747193      0.464103  29.976523                    158.445715   \n",
       "1             1.728558      0.268615  26.989632                    115.082899   \n",
       "\n",
       "       month_to_end_contract  lifetime  avg_class_frequency_total  \\\n",
       "churn                                                               \n",
       "0                   5.283089  4.711807                   2.024876   \n",
       "1                   1.662582  0.990575                   1.474995   \n",
       "\n",
       "       avg_class_frequency_current_month  \n",
       "churn                                     \n",
       "0                               2.027882  \n",
       "1                               1.044546  "
      ]
     },
     "execution_count": 10,
     "metadata": {},
     "output_type": "execute_result"
    }
   ],
   "source": [
    "#Agrupamos con groupby la columna churn para posteriormente separar los usuarios suscritos y los que no estan suscritos\n",
    "gym_grouped= gym.groupby('churn')\n",
    "gym_grouped.mean()\n"
   ]
  },
  {
   "cell_type": "markdown",
   "metadata": {},
   "source": [
    "A simple vista podemos observar que las personas que se encuentran suscritas mas del 50% forman parte del programa partner y en su mayoria adquieren membresias por mayor tiempo. \n",
    "A diferencia de los no suscritos que contratan por menos tiempo y solo el 30% pertenece a un partner."
   ]
  },
  {
   "cell_type": "code",
   "execution_count": 11,
   "metadata": {},
   "outputs": [],
   "source": [
    "#Separamos los datos en dos dataframes uno para los usuarios sucritos y otro para los no suscritos\n",
    "subscribed = gym_grouped.get_group(0)\n",
    "unsubscribed = gym_grouped.get_group(1)"
   ]
  },
  {
   "cell_type": "markdown",
   "metadata": {},
   "source": [
    "### Traza histogramas de barras y distribuciones de características para aquellas personas que se fueron (cancelación) y para las que se quedaron."
   ]
  },
  {
   "cell_type": "code",
   "execution_count": 12,
   "metadata": {},
   "outputs": [
    {
     "data": {
      "image/png": "[encoded data removed]",
      "text/plain": [
       "<Figure size 640x480 with 1 Axes>"
      ]
     },
     "metadata": {},
     "output_type": "display_data"
    },
    {
     "data": {
      "image/png": "[encoded data removed]",
      "text/plain": [
       "<Figure size 640x480 with 1 Axes>"
      ]
     },
     "metadata": {},
     "output_type": "display_data"
    },
    {
     "data": {
      "image/png": "[encoded data removed]",
      "text/plain": [
       "<Figure size 640x480 with 1 Axes>"
      ]
     },
     "metadata": {},
     "output_type": "display_data"
    },
    {
     "data": {
      "image/png": "[encoded data removed]",
      "text/plain": [
       "<Figure size 640x480 with 1 Axes>"
      ]
     },
     "metadata": {},
     "output_type": "display_data"
    },
    {
     "data": {
      "image/png": "[encoded data removed]",
      "text/plain": [
       "<Figure size 640x480 with 1 Axes>"
      ]
     },
     "metadata": {},
     "output_type": "display_data"
    },
    {
     "data": {
      "image/png": "[encoded data removed]",
      "text/plain": [
       "<Figure size 640x480 with 1 Axes>"
      ]
     },
     "metadata": {},
     "output_type": "display_data"
    },
    {
     "data": {
      "image/png": "[encoded data removed]",
      "text/plain": [
       "<Figure size 640x480 with 1 Axes>"
      ]
     },
     "metadata": {},
     "output_type": "display_data"
    },
    {
     "data": {
      "image/png": "[encoded data removed]",
      "text/plain": [
       "<Figure size 640x480 with 1 Axes>"
      ]
     },
     "metadata": {},
     "output_type": "display_data"
    },
    {
     "data": {
      "image/png": "[encoded data removed]",
      "text/plain": [
       "<Figure size 640x480 with 1 Axes>"
      ]
     },
     "metadata": {},
     "output_type": "display_data"
    },
    {
     "data": {
      "image/png": "[encoded data removed]",
      "text/plain": [
       "<Figure size 640x480 with 1 Axes>"
      ]
     },
     "metadata": {},
     "output_type": "display_data"
    },
    {
     "data": {
      "image/png": "[encoded data removed]",
      "text/plain": [
       "<Figure size 640x480 with 1 Axes>"
      ]
     },
     "metadata": {},
     "output_type": "display_data"
    },
    {
     "data": {
      "image/png": "[encoded data removed]",
      "text/plain": [
       "<Figure size 640x480 with 1 Axes>"
      ]
     },
     "metadata": {},
     "output_type": "display_data"
    },
    {
     "data": {
      "image/png": "[encoded data removed]",
      "text/plain": [
       "<Figure size 640x480 with 1 Axes>"
      ]
     },
     "metadata": {},
     "output_type": "display_data"
    }
   ],
   "source": [
    "# Se crea un bucle para graficar cada una de las distribuciones.\n",
    "for col in gym.drop('churn', axis=1).columns:\n",
    "    sns.histplot(data= gym, x=gym[col], hue='churn')\n",
    "    plt.show()"
   ]
  },
  {
   "cell_type": "markdown",
   "metadata": {},
   "source": [
    "* **partner:** Para este grafico contamos que hay un mayor porcentaje de usuarios no suscritos que no cuentan con el descuento de partner. Esto nos puede ser útil para el departamento de marketing para aumentar la retención de esos usuarios.  \n",
    "\n",
    "\n",
    "* **Promo_friends:** Tenemos que son muy pocos los usuarios que utilizan esta promoción.\n",
    "\n",
    "\n",
    "* **Phone:** En este gráfico podemos observar que en ambos grupos, los usuarios dieron su número de teléfono, por lo que puede ser un excelente canal para que marketing haga llegar promociones o eventos.  \n",
    "\n",
    "\n",
    "* **contract_period:** En este grafico podemos observar que la mayoría de los usuarios abandonan tras el primer mes, por lo que se pueden ofrecer promociones para contratos por mayor cantidad de meses.  \n",
    "\n",
    "\n",
    "* **group_visits:** Se puede observar que la mayoría de los usuarios que no están suscritos no suelen participar en actividades de grupos.  \n",
    "\n",
    "\n",
    "* **Age:** En este histograma podemos observar que la población de la gente que no se encuentra suscrita tiende a ser una población joven. Mientras que los usuarios suscritos suelen tener una media superior a los 30 años. Con esta información se podría ofrecer promociones a estudiantes universitarios, ya que aproximadamente es la edad de un estudiante universitario.\n",
    "\n",
    "\n",
    "* **avg_additional_charges_total:** En ambas poblaciones ninguna de las dos suele hacer gastos superiores a los 300 usd en el mes.\n",
    "\n",
    "\n",
    "* **month_to_end_contract:** En este caso podemos observar que tenemos una cantidad grande de usuarios prontos a que su membresía caduque por lo que se deben tomar acciones prontas.  \n",
    "\n",
    "\n",
    "* **lifetime:** Podemos obsevar que el punto critico en las cancelaciones de membresías son en los primeros dos meses.\n",
    "\n",
    "\n",
    "* **avg_class_frecuency_total:** Podemos observar que la media para los usuarios que no están suscritos es de 1 a 2 días a la semana durante su suscripción.Mientras que los usuarios que continúan suscritos su media de visitas se encuentra entre 2 a 3 a la semana durante la duración de suscripción.\n",
    "\n",
    "* **avg_class_frequency_current_month:** En el caso de la población que no esta suscrita, tenemos que una gran parte solo visito el gimnasio un promedio de una vez a la semana durante un mes, mientras que para los suscritos fue un promedio de 2 a 3 visitas a la semana durante el ultimo mes."
   ]
  },
  {
   "cell_type": "markdown",
   "metadata": {},
   "source": []
  },
  {
   "cell_type": "code",
   "execution_count": 13,
   "metadata": {},
   "outputs": [
    {
     "data": {
      "image/png": "[encoded data removed]",
      "text/plain": [
       "<Figure size 1500x1000 with 2 Axes>"
      ]
     },
     "metadata": {},
     "output_type": "display_data"
    }
   ],
   "source": [
    "# Se crea una matriz de correlación.\n",
    "\n",
    "corr_m=gym.corr()\n",
    "\n",
    "# Se crea un grafico de calor para la matriz de correlación. \n",
    "fig, ax = plt.subplots(figsize=(15, 10))\n",
    "\n",
    "# Traza el mapa de calor anotado para la matriz de correlación\n",
    "sns.heatmap(corr_m, annot=True, square=True, ax=ax)\n",
    "\n",
    "plt.show()\n"
   ]
  },
  {
   "cell_type": "markdown",
   "metadata": {},
   "source": [
    "Como podemos observar en el mapa de calor las caracteristicas con mayor correlación son:\n",
    "* Con 95% month to end contract con el periodo de contrato, \n",
    "* Con 95% avg class frequency total y avg class frecuency current month\n",
    "* Con 45% promo friends y partner"
   ]
  },
  {
   "cell_type": "markdown",
   "metadata": {},
   "source": [
    "## MODELO DE PREDICCIÓN DE CANCELACIÓN DE USUARIOS"
   ]
  },
  {
   "cell_type": "code",
   "execution_count": 14,
   "metadata": {},
   "outputs": [
    {
     "name": "stdout",
     "output_type": "stream",
     "text": [
      "Métricas de regresión logística:\n",
      "\tAccuracy: 0.92\n",
      "\tPrecision: 0.85\n",
      "\tRecall: 0.83\n",
      "Métricas de random forest:\n",
      "\tAccuracy: 0.92\n",
      "\tPrecision: 0.84\n",
      "\tRecall: 0.81\n"
     ]
    }
   ],
   "source": [
    "# Se crea un modelo de clasificación binaria para clientes donde la característica objetivo es la marcha del usuario/a \n",
    "# el mes siguiente ('churn').\n",
    "\n",
    "# define la función que podrá generar nuestras métricas\n",
    "def print_all_metrics(y_true, y_pred, y_proba, title = 'Métricas de clasificación'):\n",
    "    print(title)\n",
    "    print('\\tAccuracy: {:.2f}'.format(accuracy_score(y_true, y_pred)))\n",
    "    print('\\tPrecision: {:.2f}'.format(precision_score(y_true, y_pred)))\n",
    "    print('\\tRecall: {:.2f}'.format(recall_score(y_true, y_pred)))\n",
    "\n",
    "\n",
    "# Divide los datos en caracteristicas y la variable objetivo\n",
    "\n",
    "X=gym.drop('churn',axis=1)\n",
    "y=gym['churn']\n",
    "\n",
    "# Se dividen los valores de entrenamiento y los de prueba ocupando del 80/20 y randomState para que sea reproducible\n",
    "X_train, X_test, y_train, y_test = train_test_split(X, y, test_size=0.2, random_state=0)\n",
    "\n",
    "scaler = StandardScaler()\n",
    "scaler.fit(X_train)\n",
    "\n",
    "X_train_st = scaler.transform(X_train)\n",
    "X_test_st = scaler.transform(X_test)\n",
    "\n",
    "### Entrena el modelo en el set de entrenamiento con dos métodos:\n",
    "\n",
    "#### Regresión logística\n",
    "\n",
    "# define el algoritmo para el modelo de regresión logística\n",
    "lr_model = LogisticRegression(random_state=0)\n",
    "lr_model.fit(X_train_st, y_train)\n",
    "# utiliza el modelo entrenado para hacer previsiones\n",
    "lr_predictions = lr_model.predict(X_test_st)\n",
    "lr_probabilities = lr_model.predict_proba(X_test_st)[:,1]\n",
    "# muestra todas las métricas\n",
    "print_all_metrics(y_test, lr_predictions, lr_probabilities , title='Métricas de regresión logística:')\n",
    "\n",
    "#### Bosque aleatorio\n",
    "\n",
    "# define el algoritmo para el nuevo modelo de random forest\n",
    "rf_model = RandomForestClassifier(n_estimators=100,random_state=0)\n",
    "# entrena el modelo de random forest\n",
    "rf_model.fit(X_train_st, y_train)\n",
    "# utiliza el modelo entrenado para hacer previsiones\n",
    "rf_predictions = rf_model.predict(X_test_st)\n",
    "rf_probabilities = rf_model.predict_proba(X_test_st)[:,1]\n",
    "# muestra todas las métricas\n",
    "print_all_metrics(y_test, rf_predictions, rf_probabilities, title='Métricas de random forest:')"
   ]
  },
  {
   "cell_type": "markdown",
   "metadata": {},
   "source": [
    "Evaluando la exactitud, precision y recall para ambos modelos, obtenemos que la regresión logística tiene mejor presición que el bosque aleatorio, en recall solo tienen una pequeña diferencia entre modelo y modelo. Por lo que podemos concluir que la regresión logística es el modelo que debemos seleccionar para hacer predicciones."
   ]
  },
  {
   "cell_type": "markdown",
   "metadata": {},
   "source": [
    "## CREAR CLÚSTERES DE USUARIOS"
   ]
  },
  {
   "cell_type": "code",
   "execution_count": 15,
   "metadata": {},
   "outputs": [],
   "source": [
    "### Se identifican los clústeres de usuarios/as\n",
    "\n",
    "#Se estandarizan los datos\n",
    "sc = StandardScaler()\n",
    "x_sc = sc.fit_transform(gym)"
   ]
  },
  {
   "cell_type": "code",
   "execution_count": 16,
   "metadata": {},
   "outputs": [
    {
     "data": {
      "image/png": "[encoded data removed]",
      "text/plain": [
       "<Figure size 1500x1000 with 1 Axes>"
      ]
     },
     "metadata": {},
     "output_type": "display_data"
    }
   ],
   "source": [
    "# Se crea una matriz de distancias \n",
    "linked = linkage(x_sc, method = 'ward')\n",
    "# Se grafica la matriz trazando un dendrograma\n",
    "plt.figure(figsize=(15, 10))  \n",
    "dendrogram(linked, orientation='top')\n",
    "plt.title('Agrupación jerárquica para GYM')\n",
    "plt.show()"
   ]
  },
  {
   "cell_type": "markdown",
   "metadata": {},
   "source": [
    "Obteniendo nuestro dendrograma obtenemos 5 grupos diferentes de diferentes colores que sera el número de clusteres que crearemos apartir de este dato."
   ]
  },
  {
   "cell_type": "code",
   "execution_count": 17,
   "metadata": {},
   "outputs": [
    {
     "data": {
      "text/html": [
       "<div>\n",
       "<style scoped>\n",
       "    .dataframe tbody tr th:only-of-type {\n",
       "        vertical-align: middle;\n",
       "    }\n",
       "\n",
       "    .dataframe tbody tr th {\n",
       "        vertical-align: top;\n",
       "    }\n",
       "\n",
       "    .dataframe thead th {\n",
       "        text-align: right;\n",
       "    }\n",
       "</style>\n",
       "<table border=\"1\" class=\"dataframe\">\n",
       "  <thead>\n",
       "    <tr style=\"text-align: right;\">\n",
       "      <th></th>\n",
       "      <th>gender</th>\n",
       "      <th>near_location</th>\n",
       "      <th>partner</th>\n",
       "      <th>promo_friends</th>\n",
       "      <th>phone</th>\n",
       "      <th>contract_period</th>\n",
       "      <th>group_visits</th>\n",
       "      <th>age</th>\n",
       "      <th>avg_additional_charges_total</th>\n",
       "      <th>month_to_end_contract</th>\n",
       "      <th>lifetime</th>\n",
       "      <th>avg_class_frequency_total</th>\n",
       "      <th>avg_class_frequency_current_month</th>\n",
       "      <th>churn</th>\n",
       "    </tr>\n",
       "    <tr>\n",
       "      <th>cluster_km</th>\n",
       "      <th></th>\n",
       "      <th></th>\n",
       "      <th></th>\n",
       "      <th></th>\n",
       "      <th></th>\n",
       "      <th></th>\n",
       "      <th></th>\n",
       "      <th></th>\n",
       "      <th></th>\n",
       "      <th></th>\n",
       "      <th></th>\n",
       "      <th></th>\n",
       "      <th></th>\n",
       "      <th></th>\n",
       "    </tr>\n",
       "  </thead>\n",
       "  <tbody>\n",
       "    <tr>\n",
       "      <th>0</th>\n",
       "      <td>0.503676</td>\n",
       "      <td>0.000000</td>\n",
       "      <td>0.459559</td>\n",
       "      <td>0.075368</td>\n",
       "      <td>0.917279</td>\n",
       "      <td>2.069853</td>\n",
       "      <td>0.211397</td>\n",
       "      <td>28.522059</td>\n",
       "      <td>132.741216</td>\n",
       "      <td>1.950368</td>\n",
       "      <td>2.757353</td>\n",
       "      <td>1.706629</td>\n",
       "      <td>1.515890</td>\n",
       "      <td>0.450368</td>\n",
       "    </tr>\n",
       "    <tr>\n",
       "      <th>1</th>\n",
       "      <td>0.492829</td>\n",
       "      <td>0.936115</td>\n",
       "      <td>0.764016</td>\n",
       "      <td>0.534550</td>\n",
       "      <td>0.919166</td>\n",
       "      <td>10.447197</td>\n",
       "      <td>0.516297</td>\n",
       "      <td>29.962190</td>\n",
       "      <td>161.853561</td>\n",
       "      <td>9.477184</td>\n",
       "      <td>4.833116</td>\n",
       "      <td>2.788103</td>\n",
       "      <td>2.786919</td>\n",
       "      <td>0.007823</td>\n",
       "    </tr>\n",
       "    <tr>\n",
       "      <th>2</th>\n",
       "      <td>0.507917</td>\n",
       "      <td>1.000000</td>\n",
       "      <td>0.323995</td>\n",
       "      <td>0.213155</td>\n",
       "      <td>0.903776</td>\n",
       "      <td>1.546894</td>\n",
       "      <td>0.287454</td>\n",
       "      <td>26.926918</td>\n",
       "      <td>113.173051</td>\n",
       "      <td>1.500609</td>\n",
       "      <td>1.031669</td>\n",
       "      <td>1.449720</td>\n",
       "      <td>1.037592</td>\n",
       "      <td>0.961023</td>\n",
       "    </tr>\n",
       "    <tr>\n",
       "      <th>3</th>\n",
       "      <td>0.521186</td>\n",
       "      <td>0.996610</td>\n",
       "      <td>0.282203</td>\n",
       "      <td>0.208475</td>\n",
       "      <td>0.904237</td>\n",
       "      <td>1.882203</td>\n",
       "      <td>0.452542</td>\n",
       "      <td>30.237288</td>\n",
       "      <td>157.988625</td>\n",
       "      <td>1.794915</td>\n",
       "      <td>4.923729</td>\n",
       "      <td>2.203432</td>\n",
       "      <td>2.207359</td>\n",
       "      <td>0.003390</td>\n",
       "    </tr>\n",
       "    <tr>\n",
       "      <th>4</th>\n",
       "      <td>0.518895</td>\n",
       "      <td>0.968023</td>\n",
       "      <td>0.744186</td>\n",
       "      <td>0.526163</td>\n",
       "      <td>0.873547</td>\n",
       "      <td>8.859012</td>\n",
       "      <td>0.534884</td>\n",
       "      <td>29.728198</td>\n",
       "      <td>162.907495</td>\n",
       "      <td>8.155523</td>\n",
       "      <td>4.411337</td>\n",
       "      <td>0.957744</td>\n",
       "      <td>0.943967</td>\n",
       "      <td>0.024709</td>\n",
       "    </tr>\n",
       "  </tbody>\n",
       "</table>\n",
       "</div>"
      ],
      "text/plain": [
       "              gender  near_location   partner  promo_friends     phone  \\\n",
       "cluster_km                                                               \n",
       "0           0.503676       0.000000  0.459559       0.075368  0.917279   \n",
       "1           0.492829       0.936115  0.764016       0.534550  0.919166   \n",
       "2           0.507917       1.000000  0.323995       0.213155  0.903776   \n",
       "3           0.521186       0.996610  0.282203       0.208475  0.904237   \n",
       "4           0.518895       0.968023  0.744186       0.526163  0.873547   \n",
       "\n",
       "            contract_period  group_visits        age  \\\n",
       "cluster_km                                             \n",
       "0                  2.069853      0.211397  28.522059   \n",
       "1                 10.447197      0.516297  29.962190   \n",
       "2                  1.546894      0.287454  26.926918   \n",
       "3                  1.882203      0.452542  30.237288   \n",
       "4                  8.859012      0.534884  29.728198   \n",
       "\n",
       "            avg_additional_charges_total  month_to_end_contract  lifetime  \\\n",
       "cluster_km                                                                  \n",
       "0                             132.741216               1.950368  2.757353   \n",
       "1                             161.853561               9.477184  4.833116   \n",
       "2                             113.173051               1.500609  1.031669   \n",
       "3                             157.988625               1.794915  4.923729   \n",
       "4                             162.907495               8.155523  4.411337   \n",
       "\n",
       "            avg_class_frequency_total  avg_class_frequency_current_month  \\\n",
       "cluster_km                                                                 \n",
       "0                            1.706629                           1.515890   \n",
       "1                            2.788103                           2.786919   \n",
       "2                            1.449720                           1.037592   \n",
       "3                            2.203432                           2.207359   \n",
       "4                            0.957744                           0.943967   \n",
       "\n",
       "               churn  \n",
       "cluster_km            \n",
       "0           0.450368  \n",
       "1           0.007823  \n",
       "2           0.961023  \n",
       "3           0.003390  \n",
       "4           0.024709  "
      ]
     },
     "execution_count": 17,
     "metadata": {},
     "output_type": "execute_result"
    }
   ],
   "source": [
    "# Se define el modelo K-means con 5 clusteres\n",
    "km = KMeans(n_clusters=5, random_state=0)\n",
    "# Se predice los clusteres\n",
    "labels = km.fit_predict(x_sc)\n",
    "\n",
    "# almacena etiquetas de clúster en el campo de nuestro conjunto de datos\n",
    "gym['cluster_km'] = labels\n",
    "\n",
    "# obtiene las estadísticas de los valores medios de las características por clúster\n",
    "gym.groupby(['cluster_km']).mean()"
   ]
  },
  {
   "cell_type": "markdown",
   "metadata": {},
   "source": [
    "### Mira los valores medios de característica para los clústeres.¿Hay algo que te llame la atención?\n",
    "Traza distribuciones de características para los clústeres. ¿Notas algo?\n",
    "Calcula la tasa de cancelación para cada clúster (utiliza el método groupby()). ¿Difieren en términos de tasa de cancelación? ¿Qué grupos son propensos a irse y cuáles son leales?"
   ]
  },
  {
   "cell_type": "code",
   "execution_count": 18,
   "metadata": {
    "scrolled": true
   },
   "outputs": [
    {
     "name": "stdout",
     "output_type": "stream",
     "text": [
      "cluster_km\n",
      "0    0.450368\n",
      "1    0.007823\n",
      "2    0.961023\n",
      "3    0.003390\n",
      "4    0.024709\n",
      "Name: churn, dtype: float64\n"
     ]
    }
   ],
   "source": [
    "# Se calcula la tasa de cancelación para cada clúster.\n",
    "churn_rate_by_cluster = gym.groupby('cluster_km')['churn'].mean()\n",
    "print(churn_rate_by_cluster)"
   ]
  },
  {
   "cell_type": "markdown",
   "metadata": {},
   "source": [
    "El grupo 2 es el que tiene mayor numero de cancelaciónes con un 96% de cancelaciones. Por otro lado, el grupo 1 y 3 son los mas leales con menos del 1% de cancelaciones. \n",
    "Con base en estos datos, podriamos crear perfiles para clientes que son mas propensos a cancelar su membresia y cuales son los clientes que se vuelven más leales. "
   ]
  },
  {
   "cell_type": "markdown",
   "metadata": {},
   "source": [
    "Tenemos que para el grupo 2 el 100% vive cerca de las instalaciones d el gym, solo el 28% de participa en actividades grupales, solo el 32% pertenece a un partner y el 21% y tienden a asistir uno o dos meses al gimnasio. Además que tenemos que de todos los cluster la media de edad es la más baja."
   ]
  },
  {
   "cell_type": "markdown",
   "metadata": {},
   "source": [
    "## CONCLUSIONES"
   ]
  },
  {
   "cell_type": "markdown",
   "metadata": {},
   "source": [
    "En conclusión, tenemos que el proximo mes tenemos muchos usuarios que van a terminar su suscripsión, mediante el perfil que obtenimos al realizar los clusters podriamos realizar algunas promociones para alentar a esos usuarios a renovar su suscripçión. Ofreciendo un precio menor en membresias de 6 y 12 meses.\n",
    "\n",
    "Otro dato importante es que la población que no renueva su suscripción se encuentra entre 25 a 30 por lo que podria establecer alguna estrategia de marketing para atraer a ese sector de la población.\n",
    "\n",
    "Por otro lado, promocionar boletines de noticias y promociones es una excelente idea ya que mas del 90% de los usuarios proporcionaron su telefono siendo un excelente canal de comunicación.\n",
    "\n",
    "Referente al tema del modelo de predicción obtuvimos que el modelo de regresión lógistica tiene mejores métricas, con un 92% de certeza. Por lo que se concluye que es un buen modelo que nos servira para predecir."
   ]
  }
 ],
 "metadata": {
  "ExecuteTimeLog": [
   {
    "duration": 283,
    "start_time": "2024-10-14T22:21:15.933Z"
   },
   {
    "duration": 520,
    "start_time": "2024-10-14T22:22:40.410Z"
   },
   {
    "duration": 17,
    "start_time": "2024-10-14T22:22:54.753Z"
   },
   {
    "duration": 9,
    "start_time": "2024-10-14T22:23:07.014Z"
   },
   {
    "duration": 5,
    "start_time": "2024-10-14T22:31:23.332Z"
   },
   {
    "duration": 17,
    "start_time": "2024-10-14T22:48:47.472Z"
   },
   {
    "duration": 6,
    "start_time": "2024-10-14T22:48:55.345Z"
   },
   {
    "duration": 6,
    "start_time": "2024-10-14T22:49:30.739Z"
   },
   {
    "duration": 32,
    "start_time": "2024-10-14T22:50:37.018Z"
   },
   {
    "duration": 403,
    "start_time": "2024-10-14T22:56:55.377Z"
   },
   {
    "duration": 13,
    "start_time": "2024-10-14T22:57:05.732Z"
   },
   {
    "duration": 7,
    "start_time": "2024-10-14T22:57:11.851Z"
   },
   {
    "duration": 38,
    "start_time": "2024-10-14T22:58:12.343Z"
   },
   {
    "duration": 5,
    "start_time": "2024-10-14T22:58:21.681Z"
   },
   {
    "duration": 4,
    "start_time": "2024-10-14T22:58:52.760Z"
   },
   {
    "duration": 19,
    "start_time": "2024-10-14T23:00:23.224Z"
   },
   {
    "duration": 10,
    "start_time": "2024-10-15T00:23:59.586Z"
   },
   {
    "duration": 156,
    "start_time": "2024-10-15T00:24:07.360Z"
   },
   {
    "duration": 295,
    "start_time": "2024-10-15T00:24:13.866Z"
   },
   {
    "duration": 13,
    "start_time": "2024-10-15T00:24:14.163Z"
   },
   {
    "duration": 9,
    "start_time": "2024-10-15T00:24:14.178Z"
   },
   {
    "duration": 7,
    "start_time": "2024-10-15T00:24:14.188Z"
   },
   {
    "duration": 32,
    "start_time": "2024-10-15T00:24:14.197Z"
   },
   {
    "duration": 5,
    "start_time": "2024-10-15T00:24:14.230Z"
   },
   {
    "duration": 545,
    "start_time": "2024-10-15T00:24:14.237Z"
   },
   {
    "duration": 41,
    "start_time": "2024-10-15T04:20:57.664Z"
   },
   {
    "duration": 13,
    "start_time": "2024-10-15T04:21:05.749Z"
   },
   {
    "duration": 3,
    "start_time": "2024-10-15T04:21:50.581Z"
   },
   {
    "duration": 318,
    "start_time": "2024-10-15T14:12:08.674Z"
   },
   {
    "duration": 19,
    "start_time": "2024-10-15T14:12:08.995Z"
   },
   {
    "duration": 10,
    "start_time": "2024-10-15T14:12:09.015Z"
   },
   {
    "duration": 5,
    "start_time": "2024-10-15T14:12:09.027Z"
   },
   {
    "duration": 7,
    "start_time": "2024-10-15T14:12:09.042Z"
   },
   {
    "duration": 32,
    "start_time": "2024-10-15T14:12:09.051Z"
   },
   {
    "duration": 5,
    "start_time": "2024-10-15T14:12:09.084Z"
   },
   {
    "duration": 13,
    "start_time": "2024-10-15T14:12:09.091Z"
   },
   {
    "duration": 3,
    "start_time": "2024-10-15T14:12:09.105Z"
   },
   {
    "duration": 295,
    "start_time": "2024-10-15T15:24:51.001Z"
   },
   {
    "duration": 10,
    "start_time": "2024-10-15T15:24:51.298Z"
   },
   {
    "duration": 9,
    "start_time": "2024-10-15T15:24:51.310Z"
   },
   {
    "duration": 6,
    "start_time": "2024-10-15T15:24:51.321Z"
   },
   {
    "duration": 5,
    "start_time": "2024-10-15T15:24:51.344Z"
   },
   {
    "duration": 34,
    "start_time": "2024-10-15T15:24:51.351Z"
   },
   {
    "duration": 4,
    "start_time": "2024-10-15T15:24:51.388Z"
   },
   {
    "duration": 13,
    "start_time": "2024-10-15T15:24:51.394Z"
   },
   {
    "duration": 298,
    "start_time": "2024-10-15T15:41:06.294Z"
   },
   {
    "duration": 11,
    "start_time": "2024-10-15T15:41:06.594Z"
   },
   {
    "duration": 9,
    "start_time": "2024-10-15T15:41:06.607Z"
   },
   {
    "duration": 6,
    "start_time": "2024-10-15T15:41:06.618Z"
   },
   {
    "duration": 5,
    "start_time": "2024-10-15T15:41:06.644Z"
   },
   {
    "duration": 6,
    "start_time": "2024-10-15T15:41:06.651Z"
   },
   {
    "duration": 32,
    "start_time": "2024-10-15T15:41:06.659Z"
   },
   {
    "duration": 586,
    "start_time": "2024-10-15T15:41:06.693Z"
   },
   {
    "duration": 0,
    "start_time": "2024-10-15T15:41:07.281Z"
   },
   {
    "duration": 5,
    "start_time": "2024-10-15T15:47:08.603Z"
   },
   {
    "duration": 264,
    "start_time": "2024-10-15T15:47:11.674Z"
   },
   {
    "duration": 47,
    "start_time": "2024-10-15T15:47:18.373Z"
   },
   {
    "duration": 20,
    "start_time": "2024-10-15T15:50:48.221Z"
   },
   {
    "duration": 18,
    "start_time": "2024-10-15T15:51:08.408Z"
   },
   {
    "duration": 15,
    "start_time": "2024-10-15T15:58:17.385Z"
   },
   {
    "duration": 3,
    "start_time": "2024-10-15T16:00:55.437Z"
   },
   {
    "duration": 302,
    "start_time": "2024-10-15T16:01:00.995Z"
   },
   {
    "duration": 11,
    "start_time": "2024-10-15T16:01:01.299Z"
   },
   {
    "duration": 10,
    "start_time": "2024-10-15T16:01:01.311Z"
   },
   {
    "duration": 564,
    "start_time": "2024-10-15T16:01:01.323Z"
   },
   {
    "duration": 0,
    "start_time": "2024-10-15T16:01:01.889Z"
   },
   {
    "duration": 0,
    "start_time": "2024-10-15T16:01:01.890Z"
   },
   {
    "duration": 0,
    "start_time": "2024-10-15T16:01:01.891Z"
   },
   {
    "duration": 0,
    "start_time": "2024-10-15T16:01:01.891Z"
   },
   {
    "duration": 0,
    "start_time": "2024-10-15T16:01:01.893Z"
   },
   {
    "duration": 0,
    "start_time": "2024-10-15T16:01:01.894Z"
   },
   {
    "duration": 291,
    "start_time": "2024-10-15T16:01:29.001Z"
   },
   {
    "duration": 10,
    "start_time": "2024-10-15T16:01:29.294Z"
   },
   {
    "duration": 10,
    "start_time": "2024-10-15T16:01:29.306Z"
   },
   {
    "duration": 8,
    "start_time": "2024-10-15T16:01:29.317Z"
   },
   {
    "duration": 11,
    "start_time": "2024-10-15T16:01:29.346Z"
   },
   {
    "duration": 12,
    "start_time": "2024-10-15T16:01:29.359Z"
   },
   {
    "duration": 7,
    "start_time": "2024-10-15T16:01:29.373Z"
   },
   {
    "duration": 35,
    "start_time": "2024-10-15T16:01:29.382Z"
   },
   {
    "duration": 5,
    "start_time": "2024-10-15T16:01:29.419Z"
   },
   {
    "duration": 254,
    "start_time": "2024-10-15T16:01:29.444Z"
   },
   {
    "duration": 15,
    "start_time": "2024-10-15T16:02:09.092Z"
   },
   {
    "duration": 8,
    "start_time": "2024-10-15T16:03:03.387Z"
   },
   {
    "duration": 21,
    "start_time": "2024-10-15T16:03:13.098Z"
   },
   {
    "duration": 6,
    "start_time": "2024-10-15T16:03:16.425Z"
   },
   {
    "duration": 3,
    "start_time": "2024-10-15T16:03:18.756Z"
   },
   {
    "duration": 9,
    "start_time": "2024-10-15T16:04:37.506Z"
   },
   {
    "duration": 4,
    "start_time": "2024-10-15T16:06:03.321Z"
   },
   {
    "duration": 11,
    "start_time": "2024-10-15T16:06:12.570Z"
   },
   {
    "duration": 6,
    "start_time": "2024-10-15T16:09:39.761Z"
   },
   {
    "duration": 6,
    "start_time": "2024-10-15T16:09:46.545Z"
   },
   {
    "duration": 3,
    "start_time": "2024-10-15T16:09:58.888Z"
   },
   {
    "duration": 3,
    "start_time": "2024-10-15T16:10:15.242Z"
   },
   {
    "duration": 4,
    "start_time": "2024-10-15T16:10:26.224Z"
   },
   {
    "duration": 520,
    "start_time": "2024-10-15T16:10:37.927Z"
   },
   {
    "duration": 80,
    "start_time": "2024-10-15T16:11:53.545Z"
   },
   {
    "duration": 2554,
    "start_time": "2024-10-15T16:12:17.585Z"
   },
   {
    "duration": 11,
    "start_time": "2024-10-15T16:12:20.142Z"
   },
   {
    "duration": 10,
    "start_time": "2024-10-15T16:12:20.154Z"
   },
   {
    "duration": 8,
    "start_time": "2024-10-15T16:12:20.166Z"
   },
   {
    "duration": 3,
    "start_time": "2024-10-15T16:12:20.177Z"
   },
   {
    "duration": 4,
    "start_time": "2024-10-15T16:12:20.182Z"
   },
   {
    "duration": 9,
    "start_time": "2024-10-15T16:12:20.188Z"
   },
   {
    "duration": 44,
    "start_time": "2024-10-15T16:12:20.199Z"
   },
   {
    "duration": 36,
    "start_time": "2024-10-15T16:12:20.245Z"
   },
   {
    "duration": 14,
    "start_time": "2024-10-15T16:12:20.283Z"
   },
   {
    "duration": 3,
    "start_time": "2024-10-15T16:12:20.299Z"
   },
   {
    "duration": 132,
    "start_time": "2024-10-15T16:17:18.525Z"
   },
   {
    "duration": 38,
    "start_time": "2024-10-15T16:18:04.128Z"
   },
   {
    "duration": 6,
    "start_time": "2024-10-15T16:50:25.289Z"
   },
   {
    "duration": 13,
    "start_time": "2024-10-15T16:50:33.735Z"
   },
   {
    "duration": 7,
    "start_time": "2024-10-15T16:55:07.903Z"
   },
   {
    "duration": 15,
    "start_time": "2024-10-15T16:55:17.020Z"
   },
   {
    "duration": 4,
    "start_time": "2024-10-15T16:58:36.230Z"
   },
   {
    "duration": 17,
    "start_time": "2024-10-15T16:58:43.147Z"
   },
   {
    "duration": 963,
    "start_time": "2024-10-15T17:13:01.553Z"
   },
   {
    "duration": 994,
    "start_time": "2024-10-15T17:13:13.897Z"
   },
   {
    "duration": 936,
    "start_time": "2024-10-15T17:13:25.431Z"
   },
   {
    "duration": 928,
    "start_time": "2024-10-15T17:13:33.380Z"
   },
   {
    "duration": 965,
    "start_time": "2024-10-15T17:13:39.519Z"
   },
   {
    "duration": 1017,
    "start_time": "2024-10-15T17:14:26.967Z"
   },
   {
    "duration": 971,
    "start_time": "2024-10-15T17:14:33.333Z"
   },
   {
    "duration": 979,
    "start_time": "2024-10-15T17:14:38.936Z"
   },
   {
    "duration": 963,
    "start_time": "2024-10-15T17:14:47.523Z"
   },
   {
    "duration": 1079,
    "start_time": "2024-10-15T17:14:58.582Z"
   },
   {
    "duration": 970,
    "start_time": "2024-10-15T17:15:12.265Z"
   },
   {
    "duration": 833,
    "start_time": "2024-10-15T17:28:19.986Z"
   },
   {
    "duration": 1262,
    "start_time": "2024-10-15T17:29:13.836Z"
   },
   {
    "duration": 13,
    "start_time": "2024-10-15T17:36:33.497Z"
   },
   {
    "duration": 6,
    "start_time": "2024-10-15T17:36:47.929Z"
   },
   {
    "duration": 15,
    "start_time": "2024-10-15T17:36:54.080Z"
   },
   {
    "duration": 4,
    "start_time": "2024-10-15T17:36:57.134Z"
   },
   {
    "duration": 1331,
    "start_time": "2024-10-15T17:37:21.977Z"
   },
   {
    "duration": 4,
    "start_time": "2024-10-15T17:42:59.889Z"
   },
   {
    "duration": 366,
    "start_time": "2024-10-15T17:43:13.867Z"
   },
   {
    "duration": 4863,
    "start_time": "2024-10-15T17:43:43.487Z"
   },
   {
    "duration": 6,
    "start_time": "2024-10-15T17:45:59.803Z"
   },
   {
    "duration": 1075,
    "start_time": "2024-10-15T17:46:04.078Z"
   },
   {
    "duration": 1018,
    "start_time": "2024-10-15T17:46:16.550Z"
   },
   {
    "duration": 1003,
    "start_time": "2024-10-15T17:46:26.519Z"
   },
   {
    "duration": 1149,
    "start_time": "2024-10-15T17:47:40.831Z"
   },
   {
    "duration": 993,
    "start_time": "2024-10-15T17:47:51.679Z"
   },
   {
    "duration": 977,
    "start_time": "2024-10-15T17:55:36.781Z"
   },
   {
    "duration": 1030,
    "start_time": "2024-10-15T17:55:47.060Z"
   },
   {
    "duration": 1052,
    "start_time": "2024-10-15T17:57:33.130Z"
   },
   {
    "duration": 1210,
    "start_time": "2024-10-15T17:58:02.564Z"
   },
   {
    "duration": 1109,
    "start_time": "2024-10-15T17:58:11.382Z"
   },
   {
    "duration": 1132,
    "start_time": "2024-10-15T17:58:35.291Z"
   },
   {
    "duration": 8,
    "start_time": "2024-10-15T18:01:53.343Z"
   },
   {
    "duration": 5,
    "start_time": "2024-10-15T18:05:37.007Z"
   },
   {
    "duration": 2875,
    "start_time": "2024-10-15T18:35:02.372Z"
   },
   {
    "duration": 840,
    "start_time": "2024-10-15T18:36:44.253Z"
   },
   {
    "duration": 12,
    "start_time": "2024-10-15T18:36:45.095Z"
   },
   {
    "duration": 9,
    "start_time": "2024-10-15T18:36:45.109Z"
   },
   {
    "duration": 24,
    "start_time": "2024-10-15T18:36:45.120Z"
   },
   {
    "duration": 4,
    "start_time": "2024-10-15T18:36:45.147Z"
   },
   {
    "duration": 4,
    "start_time": "2024-10-15T18:36:45.153Z"
   },
   {
    "duration": 3,
    "start_time": "2024-10-15T18:36:45.159Z"
   },
   {
    "duration": 6,
    "start_time": "2024-10-15T18:36:45.163Z"
   },
   {
    "duration": 9,
    "start_time": "2024-10-15T18:36:45.171Z"
   },
   {
    "duration": 66,
    "start_time": "2024-10-15T18:36:45.182Z"
   },
   {
    "duration": 13,
    "start_time": "2024-10-15T18:36:45.250Z"
   },
   {
    "duration": 4,
    "start_time": "2024-10-15T18:36:45.265Z"
   },
   {
    "duration": 2468,
    "start_time": "2024-10-15T18:36:45.270Z"
   },
   {
    "duration": 229,
    "start_time": "2024-10-15T18:36:47.743Z"
   },
   {
    "duration": 0,
    "start_time": "2024-10-15T18:36:47.974Z"
   },
   {
    "duration": 0,
    "start_time": "2024-10-15T18:36:47.976Z"
   },
   {
    "duration": 1305,
    "start_time": "2024-10-15T18:39:59.843Z"
   },
   {
    "duration": 57,
    "start_time": "2024-10-15T18:44:39.859Z"
   },
   {
    "duration": 50,
    "start_time": "2024-10-15T18:44:57.750Z"
   },
   {
    "duration": 13,
    "start_time": "2024-10-15T18:45:16.557Z"
   },
   {
    "duration": 53,
    "start_time": "2024-10-15T18:45:22.596Z"
   },
   {
    "duration": 2717,
    "start_time": "2024-10-15T18:47:39.672Z"
   },
   {
    "duration": 2872,
    "start_time": "2024-10-15T18:47:58.404Z"
   },
   {
    "duration": 826,
    "start_time": "2024-10-15T18:48:12.006Z"
   },
   {
    "duration": 11,
    "start_time": "2024-10-15T18:48:12.834Z"
   },
   {
    "duration": 9,
    "start_time": "2024-10-15T18:48:12.846Z"
   },
   {
    "duration": 8,
    "start_time": "2024-10-15T18:48:12.857Z"
   },
   {
    "duration": 5,
    "start_time": "2024-10-15T18:48:12.868Z"
   },
   {
    "duration": 5,
    "start_time": "2024-10-15T18:48:12.874Z"
   },
   {
    "duration": 3,
    "start_time": "2024-10-15T18:48:12.880Z"
   },
   {
    "duration": 6,
    "start_time": "2024-10-15T18:48:12.884Z"
   },
   {
    "duration": 7,
    "start_time": "2024-10-15T18:48:12.892Z"
   },
   {
    "duration": 38,
    "start_time": "2024-10-15T18:48:12.943Z"
   },
   {
    "duration": 13,
    "start_time": "2024-10-15T18:48:12.984Z"
   },
   {
    "duration": 3,
    "start_time": "2024-10-15T18:48:12.999Z"
   },
   {
    "duration": 2495,
    "start_time": "2024-10-15T18:48:13.004Z"
   },
   {
    "duration": 1160,
    "start_time": "2024-10-15T18:48:15.502Z"
   },
   {
    "duration": 2526,
    "start_time": "2024-10-15T18:48:50.149Z"
   },
   {
    "duration": 165,
    "start_time": "2024-10-15T19:08:45.694Z"
   },
   {
    "duration": 2,
    "start_time": "2024-10-15T19:11:12.980Z"
   },
   {
    "duration": 301,
    "start_time": "2024-10-15T19:11:33.760Z"
   },
   {
    "duration": 16,
    "start_time": "2024-10-15T19:11:38.739Z"
   },
   {
    "duration": 3,
    "start_time": "2024-10-15T19:12:04.172Z"
   },
   {
    "duration": 32,
    "start_time": "2024-10-15T19:12:08.418Z"
   },
   {
    "duration": 1134,
    "start_time": "2024-10-15T19:12:28.619Z"
   },
   {
    "duration": 13,
    "start_time": "2024-10-15T19:12:29.755Z"
   },
   {
    "duration": 10,
    "start_time": "2024-10-15T19:12:29.769Z"
   },
   {
    "duration": 9,
    "start_time": "2024-10-15T19:12:29.780Z"
   },
   {
    "duration": 3,
    "start_time": "2024-10-15T19:12:29.792Z"
   },
   {
    "duration": 5,
    "start_time": "2024-10-15T19:12:29.797Z"
   },
   {
    "duration": 4,
    "start_time": "2024-10-15T19:12:29.803Z"
   },
   {
    "duration": 36,
    "start_time": "2024-10-15T19:12:29.808Z"
   },
   {
    "duration": 7,
    "start_time": "2024-10-15T19:12:29.846Z"
   },
   {
    "duration": 34,
    "start_time": "2024-10-15T19:12:29.854Z"
   },
   {
    "duration": 12,
    "start_time": "2024-10-15T19:12:29.890Z"
   },
   {
    "duration": 3,
    "start_time": "2024-10-15T19:12:29.903Z"
   },
   {
    "duration": 2563,
    "start_time": "2024-10-15T19:12:29.908Z"
   },
   {
    "duration": 1264,
    "start_time": "2024-10-15T19:12:32.474Z"
   },
   {
    "duration": 166,
    "start_time": "2024-10-15T19:12:33.743Z"
   },
   {
    "duration": 0,
    "start_time": "2024-10-15T19:12:33.911Z"
   },
   {
    "duration": 2509,
    "start_time": "2024-10-15T19:12:47.072Z"
   },
   {
    "duration": 31,
    "start_time": "2024-10-15T19:13:02.167Z"
   },
   {
    "duration": 1059,
    "start_time": "2024-10-15T19:13:08.474Z"
   },
   {
    "duration": 15,
    "start_time": "2024-10-15T19:13:09.535Z"
   },
   {
    "duration": 9,
    "start_time": "2024-10-15T19:13:09.551Z"
   },
   {
    "duration": 8,
    "start_time": "2024-10-15T19:13:09.562Z"
   },
   {
    "duration": 4,
    "start_time": "2024-10-15T19:13:09.573Z"
   },
   {
    "duration": 5,
    "start_time": "2024-10-15T19:13:09.579Z"
   },
   {
    "duration": 2,
    "start_time": "2024-10-15T19:13:09.586Z"
   },
   {
    "duration": 4,
    "start_time": "2024-10-15T19:13:09.590Z"
   },
   {
    "duration": 46,
    "start_time": "2024-10-15T19:13:09.596Z"
   },
   {
    "duration": 34,
    "start_time": "2024-10-15T19:13:09.644Z"
   },
   {
    "duration": 15,
    "start_time": "2024-10-15T19:13:09.680Z"
   },
   {
    "duration": 4,
    "start_time": "2024-10-15T19:13:09.698Z"
   },
   {
    "duration": 2522,
    "start_time": "2024-10-15T19:13:09.704Z"
   },
   {
    "duration": 1274,
    "start_time": "2024-10-15T19:13:12.229Z"
   },
   {
    "duration": 7,
    "start_time": "2024-10-15T19:13:13.505Z"
   },
   {
    "duration": 413,
    "start_time": "2024-10-15T19:13:13.514Z"
   },
   {
    "duration": 86664,
    "start_time": "2024-10-15T19:13:31.309Z"
   },
   {
    "duration": 3,
    "start_time": "2024-10-15T19:28:23.006Z"
   },
   {
    "duration": 6,
    "start_time": "2024-10-15T19:40:35.690Z"
   },
   {
    "duration": 736,
    "start_time": "2024-10-15T19:48:00.960Z"
   },
   {
    "duration": 5,
    "start_time": "2024-10-15T19:48:11.599Z"
   },
   {
    "duration": 21,
    "start_time": "2024-10-15T19:55:13.610Z"
   },
   {
    "duration": 3,
    "start_time": "2024-10-15T19:55:39.944Z"
   },
   {
    "duration": 6,
    "start_time": "2024-10-15T19:55:45.361Z"
   },
   {
    "duration": 3219,
    "start_time": "2024-10-15T21:23:44.884Z"
   },
   {
    "duration": 25,
    "start_time": "2024-10-15T21:23:48.107Z"
   },
   {
    "duration": 12,
    "start_time": "2024-10-15T21:23:48.134Z"
   },
   {
    "duration": 11,
    "start_time": "2024-10-15T21:23:48.148Z"
   },
   {
    "duration": 8,
    "start_time": "2024-10-15T21:23:48.162Z"
   },
   {
    "duration": 7,
    "start_time": "2024-10-15T21:23:48.173Z"
   },
   {
    "duration": 2,
    "start_time": "2024-10-15T21:23:48.183Z"
   },
   {
    "duration": 10,
    "start_time": "2024-10-15T21:23:48.213Z"
   },
   {
    "duration": 9,
    "start_time": "2024-10-15T21:23:48.225Z"
   },
   {
    "duration": 35,
    "start_time": "2024-10-15T21:23:48.236Z"
   },
   {
    "duration": 46,
    "start_time": "2024-10-15T21:23:48.274Z"
   },
   {
    "duration": 5,
    "start_time": "2024-10-15T21:23:48.322Z"
   },
   {
    "duration": 2904,
    "start_time": "2024-10-15T21:23:48.329Z"
   },
   {
    "duration": 1568,
    "start_time": "2024-10-15T21:23:51.236Z"
   },
   {
    "duration": 6,
    "start_time": "2024-10-15T21:23:52.806Z"
   },
   {
    "duration": 5,
    "start_time": "2024-10-15T21:23:52.814Z"
   },
   {
    "duration": 5,
    "start_time": "2024-10-15T21:23:52.821Z"
   },
   {
    "duration": 2,
    "start_time": "2024-10-15T21:23:52.828Z"
   },
   {
    "duration": 7,
    "start_time": "2024-10-15T21:23:52.832Z"
   },
   {
    "duration": 91067,
    "start_time": "2024-10-15T21:23:52.841Z"
   },
   {
    "duration": 3,
    "start_time": "2024-10-15T21:25:23.912Z"
   },
   {
    "duration": 407,
    "start_time": "2024-10-15T21:25:23.917Z"
   },
   {
    "duration": 5,
    "start_time": "2024-10-15T21:25:24.326Z"
   },
   {
    "duration": 1174,
    "start_time": "2024-10-15T22:58:45.938Z"
   },
   {
    "duration": 17,
    "start_time": "2024-10-15T22:59:17.133Z"
   },
   {
    "duration": 1025,
    "start_time": "2024-10-15T23:01:01.188Z"
   },
   {
    "duration": 12,
    "start_time": "2024-10-15T23:01:02.216Z"
   },
   {
    "duration": 11,
    "start_time": "2024-10-15T23:01:02.230Z"
   },
   {
    "duration": 9,
    "start_time": "2024-10-15T23:01:02.242Z"
   },
   {
    "duration": 3,
    "start_time": "2024-10-15T23:01:02.254Z"
   },
   {
    "duration": 4,
    "start_time": "2024-10-15T23:01:02.259Z"
   },
   {
    "duration": 3,
    "start_time": "2024-10-15T23:01:02.264Z"
   },
   {
    "duration": 5,
    "start_time": "2024-10-15T23:01:02.269Z"
   },
   {
    "duration": 40,
    "start_time": "2024-10-15T23:01:02.276Z"
   },
   {
    "duration": 33,
    "start_time": "2024-10-15T23:01:02.318Z"
   },
   {
    "duration": 12,
    "start_time": "2024-10-15T23:01:02.353Z"
   },
   {
    "duration": 4,
    "start_time": "2024-10-15T23:01:02.366Z"
   },
   {
    "duration": 2513,
    "start_time": "2024-10-15T23:01:02.372Z"
   },
   {
    "duration": 1891,
    "start_time": "2024-10-15T23:01:04.889Z"
   },
   {
    "duration": 5,
    "start_time": "2024-10-15T23:01:06.782Z"
   },
   {
    "duration": 4,
    "start_time": "2024-10-15T23:01:06.790Z"
   },
   {
    "duration": 5,
    "start_time": "2024-10-15T23:01:06.796Z"
   },
   {
    "duration": 251,
    "start_time": "2024-10-15T23:01:06.803Z"
   },
   {
    "duration": 0,
    "start_time": "2024-10-15T23:01:07.056Z"
   },
   {
    "duration": 0,
    "start_time": "2024-10-15T23:01:07.058Z"
   },
   {
    "duration": 0,
    "start_time": "2024-10-15T23:01:07.059Z"
   },
   {
    "duration": 0,
    "start_time": "2024-10-15T23:01:07.060Z"
   },
   {
    "duration": 11,
    "start_time": "2024-10-15T23:01:54.761Z"
   },
   {
    "duration": 1166,
    "start_time": "2024-10-15T23:02:04.560Z"
   },
   {
    "duration": 3148,
    "start_time": "2024-10-16T00:12:08.743Z"
   },
   {
    "duration": 19,
    "start_time": "2024-10-16T00:12:11.893Z"
   },
   {
    "duration": 11,
    "start_time": "2024-10-16T00:12:11.913Z"
   },
   {
    "duration": 24,
    "start_time": "2024-10-16T00:12:11.926Z"
   },
   {
    "duration": 5,
    "start_time": "2024-10-16T00:12:11.965Z"
   },
   {
    "duration": 5,
    "start_time": "2024-10-16T00:12:11.972Z"
   },
   {
    "duration": 2,
    "start_time": "2024-10-16T00:12:11.983Z"
   },
   {
    "duration": 6,
    "start_time": "2024-10-16T00:12:11.987Z"
   },
   {
    "duration": 7,
    "start_time": "2024-10-16T00:12:11.994Z"
   },
   {
    "duration": 49,
    "start_time": "2024-10-16T00:12:12.004Z"
   },
   {
    "duration": 17,
    "start_time": "2024-10-16T00:12:12.054Z"
   },
   {
    "duration": 4,
    "start_time": "2024-10-16T00:12:12.072Z"
   },
   {
    "duration": 2778,
    "start_time": "2024-10-16T00:12:12.078Z"
   },
   {
    "duration": 1206,
    "start_time": "2024-10-16T00:12:14.858Z"
   },
   {
    "duration": 5,
    "start_time": "2024-10-16T00:12:16.066Z"
   },
   {
    "duration": 5,
    "start_time": "2024-10-16T00:12:16.073Z"
   },
   {
    "duration": 9,
    "start_time": "2024-10-16T00:12:16.079Z"
   },
   {
    "duration": 2501,
    "start_time": "2024-10-16T00:12:16.090Z"
   },
   {
    "duration": 0,
    "start_time": "2024-10-16T00:12:18.593Z"
   },
   {
    "duration": 0,
    "start_time": "2024-10-16T00:12:18.594Z"
   },
   {
    "duration": 0,
    "start_time": "2024-10-16T00:12:18.595Z"
   },
   {
    "duration": 0,
    "start_time": "2024-10-16T00:12:18.597Z"
   },
   {
    "duration": 1813,
    "start_time": "2024-10-16T00:33:21.948Z"
   },
   {
    "duration": 2216,
    "start_time": "2024-10-16T00:35:19.122Z"
   },
   {
    "duration": 2083,
    "start_time": "2024-10-16T00:48:35.502Z"
   },
   {
    "duration": 2596,
    "start_time": "2024-10-16T00:48:55.570Z"
   },
   {
    "duration": 1145,
    "start_time": "2024-10-16T00:49:01.975Z"
   },
   {
    "duration": 37,
    "start_time": "2024-10-16T00:49:03.122Z"
   },
   {
    "duration": 11,
    "start_time": "2024-10-16T00:49:03.161Z"
   },
   {
    "duration": 11,
    "start_time": "2024-10-16T00:49:03.175Z"
   },
   {
    "duration": 5,
    "start_time": "2024-10-16T00:49:03.187Z"
   },
   {
    "duration": 5,
    "start_time": "2024-10-16T00:49:03.194Z"
   },
   {
    "duration": 4,
    "start_time": "2024-10-16T00:49:03.201Z"
   },
   {
    "duration": 5,
    "start_time": "2024-10-16T00:49:03.206Z"
   },
   {
    "duration": 21,
    "start_time": "2024-10-16T00:49:03.238Z"
   },
   {
    "duration": 34,
    "start_time": "2024-10-16T00:49:03.263Z"
   },
   {
    "duration": 12,
    "start_time": "2024-10-16T00:49:03.299Z"
   },
   {
    "duration": 4,
    "start_time": "2024-10-16T00:49:03.313Z"
   },
   {
    "duration": 2691,
    "start_time": "2024-10-16T00:49:03.318Z"
   },
   {
    "duration": 1309,
    "start_time": "2024-10-16T00:49:06.011Z"
   },
   {
    "duration": 6,
    "start_time": "2024-10-16T00:49:07.323Z"
   },
   {
    "duration": 7,
    "start_time": "2024-10-16T00:49:07.331Z"
   },
   {
    "duration": 19,
    "start_time": "2024-10-16T00:49:07.340Z"
   },
   {
    "duration": 2358,
    "start_time": "2024-10-16T00:49:07.361Z"
   },
   {
    "duration": 0,
    "start_time": "2024-10-16T00:49:09.721Z"
   },
   {
    "duration": 0,
    "start_time": "2024-10-16T00:49:09.722Z"
   },
   {
    "duration": 0,
    "start_time": "2024-10-16T00:49:09.723Z"
   },
   {
    "duration": 0,
    "start_time": "2024-10-16T00:49:09.724Z"
   },
   {
    "duration": 4,
    "start_time": "2024-10-16T00:51:27.120Z"
   },
   {
    "duration": 2725,
    "start_time": "2024-10-16T00:51:33.140Z"
   },
   {
    "duration": 6,
    "start_time": "2024-10-16T00:54:33.058Z"
   },
   {
    "duration": 91532,
    "start_time": "2024-10-16T00:54:36.142Z"
   },
   {
    "duration": 5,
    "start_time": "2024-10-16T00:56:07.677Z"
   },
   {
    "duration": 482,
    "start_time": "2024-10-16T00:56:07.684Z"
   },
   {
    "duration": 1924,
    "start_time": "2024-10-16T00:56:10.960Z"
   },
   {
    "duration": 14,
    "start_time": "2024-10-16T00:57:10.060Z"
   },
   {
    "duration": 2333,
    "start_time": "2024-10-16T00:57:11.695Z"
   },
   {
    "duration": 1122,
    "start_time": "2024-10-16T00:58:52.472Z"
   },
   {
    "duration": 13,
    "start_time": "2024-10-16T00:58:53.596Z"
   },
   {
    "duration": 10,
    "start_time": "2024-10-16T00:58:53.611Z"
   },
   {
    "duration": 18,
    "start_time": "2024-10-16T00:58:53.634Z"
   },
   {
    "duration": 7,
    "start_time": "2024-10-16T00:58:53.657Z"
   },
   {
    "duration": 4,
    "start_time": "2024-10-16T00:58:53.666Z"
   },
   {
    "duration": 2,
    "start_time": "2024-10-16T00:58:53.672Z"
   },
   {
    "duration": 6,
    "start_time": "2024-10-16T00:58:53.676Z"
   },
   {
    "duration": 7,
    "start_time": "2024-10-16T00:58:53.683Z"
   },
   {
    "duration": 60,
    "start_time": "2024-10-16T00:58:53.691Z"
   },
   {
    "duration": 12,
    "start_time": "2024-10-16T00:58:53.754Z"
   },
   {
    "duration": 4,
    "start_time": "2024-10-16T00:58:53.768Z"
   },
   {
    "duration": 2618,
    "start_time": "2024-10-16T00:58:53.773Z"
   },
   {
    "duration": 1294,
    "start_time": "2024-10-16T00:58:56.394Z"
   },
   {
    "duration": 6,
    "start_time": "2024-10-16T00:58:57.690Z"
   },
   {
    "duration": 4,
    "start_time": "2024-10-16T00:58:57.698Z"
   },
   {
    "duration": 9,
    "start_time": "2024-10-16T00:58:57.704Z"
   },
   {
    "duration": 1413,
    "start_time": "2024-10-16T00:58:57.715Z"
   },
   {
    "duration": 6,
    "start_time": "2024-10-16T00:58:59.132Z"
   },
   {
    "duration": 92456,
    "start_time": "2024-10-16T00:58:59.140Z"
   },
   {
    "duration": 4,
    "start_time": "2024-10-16T01:00:31.597Z"
   },
   {
    "duration": 473,
    "start_time": "2024-10-16T01:00:31.602Z"
   },
   {
    "duration": 2825,
    "start_time": "2024-10-16T02:51:43.342Z"
   },
   {
    "duration": 19,
    "start_time": "2024-10-16T02:51:46.170Z"
   },
   {
    "duration": 10,
    "start_time": "2024-10-16T02:51:46.190Z"
   },
   {
    "duration": 13,
    "start_time": "2024-10-16T02:51:46.202Z"
   },
   {
    "duration": 4,
    "start_time": "2024-10-16T02:51:46.217Z"
   },
   {
    "duration": 4,
    "start_time": "2024-10-16T02:51:46.223Z"
   },
   {
    "duration": 3,
    "start_time": "2024-10-16T02:51:46.229Z"
   },
   {
    "duration": 5,
    "start_time": "2024-10-16T02:51:46.234Z"
   },
   {
    "duration": 8,
    "start_time": "2024-10-16T02:51:46.241Z"
   },
   {
    "duration": 72,
    "start_time": "2024-10-16T02:51:46.252Z"
   },
   {
    "duration": 13,
    "start_time": "2024-10-16T02:51:46.325Z"
   },
   {
    "duration": 4,
    "start_time": "2024-10-16T02:51:46.339Z"
   },
   {
    "duration": 2541,
    "start_time": "2024-10-16T02:51:46.346Z"
   },
   {
    "duration": 1224,
    "start_time": "2024-10-16T02:51:48.889Z"
   },
   {
    "duration": 6,
    "start_time": "2024-10-16T02:51:50.115Z"
   },
   {
    "duration": 5,
    "start_time": "2024-10-16T02:51:50.123Z"
   },
   {
    "duration": 11,
    "start_time": "2024-10-16T02:51:50.129Z"
   },
   {
    "duration": 1242,
    "start_time": "2024-10-16T02:51:50.141Z"
   },
   {
    "duration": 7,
    "start_time": "2024-10-16T02:51:51.384Z"
   },
   {
    "duration": 86249,
    "start_time": "2024-10-16T02:51:51.392Z"
   },
   {
    "duration": 4,
    "start_time": "2024-10-16T02:53:17.643Z"
   },
   {
    "duration": 466,
    "start_time": "2024-10-16T02:53:17.649Z"
   },
   {
    "duration": 9,
    "start_time": "2024-10-16T03:51:56.546Z"
   },
   {
    "duration": 480,
    "start_time": "2024-10-16T03:51:58.490Z"
   },
   {
    "duration": 8,
    "start_time": "2024-10-16T03:52:38.753Z"
   },
   {
    "duration": 656,
    "start_time": "2024-10-16T03:53:31.302Z"
   },
   {
    "duration": 38,
    "start_time": "2024-10-16T03:53:56.418Z"
   },
   {
    "duration": 5,
    "start_time": "2024-10-16T03:54:21.805Z"
   },
   {
    "duration": 9,
    "start_time": "2024-10-16T03:54:25.043Z"
   },
   {
    "duration": 36,
    "start_time": "2024-10-16T03:54:26.538Z"
   },
   {
    "duration": 2820,
    "start_time": "2024-10-16T15:10:55.985Z"
   },
   {
    "duration": 20,
    "start_time": "2024-10-16T15:10:58.807Z"
   },
   {
    "duration": 10,
    "start_time": "2024-10-16T15:10:58.828Z"
   },
   {
    "duration": 9,
    "start_time": "2024-10-16T15:10:58.843Z"
   },
   {
    "duration": 4,
    "start_time": "2024-10-16T15:10:58.855Z"
   },
   {
    "duration": 5,
    "start_time": "2024-10-16T15:10:58.861Z"
   },
   {
    "duration": 2,
    "start_time": "2024-10-16T15:10:58.868Z"
   },
   {
    "duration": 5,
    "start_time": "2024-10-16T15:10:58.872Z"
   },
   {
    "duration": 7,
    "start_time": "2024-10-16T15:10:58.878Z"
   },
   {
    "duration": 70,
    "start_time": "2024-10-16T15:10:58.887Z"
   },
   {
    "duration": 13,
    "start_time": "2024-10-16T15:10:58.959Z"
   },
   {
    "duration": 5,
    "start_time": "2024-10-16T15:10:58.973Z"
   },
   {
    "duration": 2585,
    "start_time": "2024-10-16T15:10:58.981Z"
   },
   {
    "duration": 1186,
    "start_time": "2024-10-16T15:11:01.569Z"
   },
   {
    "duration": 6,
    "start_time": "2024-10-16T15:11:02.757Z"
   },
   {
    "duration": 5,
    "start_time": "2024-10-16T15:11:02.765Z"
   },
   {
    "duration": 9,
    "start_time": "2024-10-16T15:11:02.771Z"
   },
   {
    "duration": 8,
    "start_time": "2024-10-16T15:11:02.781Z"
   },
   {
    "duration": 400,
    "start_time": "2024-10-16T15:11:02.791Z"
   },
   {
    "duration": 0,
    "start_time": "2024-10-16T15:11:03.192Z"
   },
   {
    "duration": 0,
    "start_time": "2024-10-16T15:11:03.194Z"
   },
   {
    "duration": 0,
    "start_time": "2024-10-16T15:11:03.195Z"
   },
   {
    "duration": 0,
    "start_time": "2024-10-16T15:11:03.196Z"
   },
   {
    "duration": 7,
    "start_time": "2024-10-16T16:17:25.070Z"
   },
   {
    "duration": 4,
    "start_time": "2024-10-16T16:17:36.025Z"
   },
   {
    "duration": 4,
    "start_time": "2024-10-16T16:17:44.521Z"
   },
   {
    "duration": 2561,
    "start_time": "2024-10-16T16:17:49.819Z"
   },
   {
    "duration": 2511,
    "start_time": "2024-10-16T16:18:13.533Z"
   },
   {
    "duration": 2428,
    "start_time": "2024-10-16T16:18:29.810Z"
   },
   {
    "duration": 2621,
    "start_time": "2024-10-16T16:18:57.151Z"
   },
   {
    "duration": 392,
    "start_time": "2024-10-16T16:38:46.262Z"
   },
   {
    "duration": 990,
    "start_time": "2024-10-16T16:39:31.441Z"
   },
   {
    "duration": 12,
    "start_time": "2024-10-16T16:39:32.433Z"
   },
   {
    "duration": 10,
    "start_time": "2024-10-16T16:39:32.446Z"
   },
   {
    "duration": 10,
    "start_time": "2024-10-16T16:39:32.458Z"
   },
   {
    "duration": 4,
    "start_time": "2024-10-16T16:39:32.470Z"
   },
   {
    "duration": 4,
    "start_time": "2024-10-16T16:39:32.476Z"
   },
   {
    "duration": 2,
    "start_time": "2024-10-16T16:39:32.482Z"
   },
   {
    "duration": 5,
    "start_time": "2024-10-16T16:39:32.485Z"
   },
   {
    "duration": 7,
    "start_time": "2024-10-16T16:39:32.492Z"
   },
   {
    "duration": 41,
    "start_time": "2024-10-16T16:39:32.542Z"
   },
   {
    "duration": 12,
    "start_time": "2024-10-16T16:39:32.585Z"
   },
   {
    "duration": 4,
    "start_time": "2024-10-16T16:39:32.599Z"
   },
   {
    "duration": 2525,
    "start_time": "2024-10-16T16:39:32.605Z"
   },
   {
    "duration": 1266,
    "start_time": "2024-10-16T16:39:35.133Z"
   },
   {
    "duration": 6,
    "start_time": "2024-10-16T16:39:36.401Z"
   },
   {
    "duration": 5,
    "start_time": "2024-10-16T16:39:36.408Z"
   },
   {
    "duration": 8,
    "start_time": "2024-10-16T16:39:36.415Z"
   },
   {
    "duration": 9,
    "start_time": "2024-10-16T16:39:36.424Z"
   },
   {
    "duration": 13,
    "start_time": "2024-10-16T16:39:36.434Z"
   },
   {
    "duration": 87954,
    "start_time": "2024-10-16T16:39:36.448Z"
   },
   {
    "duration": 3,
    "start_time": "2024-10-16T16:41:04.405Z"
   },
   {
    "duration": 534,
    "start_time": "2024-10-16T16:41:04.410Z"
   },
   {
    "duration": 4,
    "start_time": "2024-10-16T16:41:04.947Z"
   },
   {
    "duration": 5,
    "start_time": "2024-10-16T16:42:55.828Z"
   },
   {
    "duration": 446,
    "start_time": "2024-10-16T16:47:39.604Z"
   },
   {
    "duration": 1076,
    "start_time": "2024-10-16T16:49:33.672Z"
   },
   {
    "duration": 12,
    "start_time": "2024-10-16T16:49:34.750Z"
   },
   {
    "duration": 9,
    "start_time": "2024-10-16T16:49:34.764Z"
   },
   {
    "duration": 8,
    "start_time": "2024-10-16T16:49:34.776Z"
   },
   {
    "duration": 4,
    "start_time": "2024-10-16T16:49:34.786Z"
   },
   {
    "duration": 5,
    "start_time": "2024-10-16T16:49:34.791Z"
   },
   {
    "duration": 3,
    "start_time": "2024-10-16T16:49:34.797Z"
   },
   {
    "duration": 43,
    "start_time": "2024-10-16T16:49:34.801Z"
   },
   {
    "duration": 7,
    "start_time": "2024-10-16T16:49:34.845Z"
   },
   {
    "duration": 32,
    "start_time": "2024-10-16T16:49:34.855Z"
   },
   {
    "duration": 12,
    "start_time": "2024-10-16T16:49:34.888Z"
   },
   {
    "duration": 4,
    "start_time": "2024-10-16T16:49:34.901Z"
   },
   {
    "duration": 2457,
    "start_time": "2024-10-16T16:49:34.906Z"
   },
   {
    "duration": 1270,
    "start_time": "2024-10-16T16:49:37.365Z"
   },
   {
    "duration": 6,
    "start_time": "2024-10-16T16:49:38.637Z"
   },
   {
    "duration": 4,
    "start_time": "2024-10-16T16:49:38.645Z"
   },
   {
    "duration": 9,
    "start_time": "2024-10-16T16:49:38.651Z"
   },
   {
    "duration": 9,
    "start_time": "2024-10-16T16:49:38.662Z"
   },
   {
    "duration": 6,
    "start_time": "2024-10-16T16:49:38.672Z"
   },
   {
    "duration": 87551,
    "start_time": "2024-10-16T16:49:38.680Z"
   },
   {
    "duration": 9,
    "start_time": "2024-10-16T16:51:06.234Z"
   },
   {
    "duration": 501,
    "start_time": "2024-10-16T16:51:06.244Z"
   },
   {
    "duration": 5,
    "start_time": "2024-10-16T16:51:06.747Z"
   },
   {
    "duration": 5,
    "start_time": "2024-10-16T16:51:06.754Z"
   },
   {
    "duration": 356,
    "start_time": "2024-10-16T17:00:28.904Z"
   },
   {
    "duration": 5,
    "start_time": "2024-10-16T17:00:33.284Z"
   },
   {
    "duration": 3,
    "start_time": "2024-10-16T17:33:05.788Z"
   },
   {
    "duration": 1297,
    "start_time": "2024-10-16T17:34:50.666Z"
   },
   {
    "duration": 1000,
    "start_time": "2024-10-16T17:35:42.850Z"
   },
   {
    "duration": 1101,
    "start_time": "2024-10-16T17:36:10.554Z"
   },
   {
    "duration": 1056,
    "start_time": "2024-10-16T17:36:50.633Z"
   },
   {
    "duration": 973,
    "start_time": "2024-10-16T17:37:31.096Z"
   },
   {
    "duration": 1009,
    "start_time": "2024-10-16T17:37:49.652Z"
   },
   {
    "duration": 1358,
    "start_time": "2024-10-16T17:38:12.865Z"
   },
   {
    "duration": 25,
    "start_time": "2024-10-16T17:40:07.626Z"
   },
   {
    "duration": 1238,
    "start_time": "2024-10-16T17:40:23.420Z"
   },
   {
    "duration": 1256,
    "start_time": "2024-10-16T17:44:01.673Z"
   },
   {
    "duration": 1392,
    "start_time": "2024-10-16T17:47:50.776Z"
   },
   {
    "duration": 1228,
    "start_time": "2024-10-16T17:49:24.185Z"
   },
   {
    "duration": 9248,
    "start_time": "2024-10-16T17:50:00.630Z"
   },
   {
    "duration": 9156,
    "start_time": "2024-10-16T17:51:54.247Z"
   },
   {
    "duration": 1248,
    "start_time": "2024-10-16T17:53:27.256Z"
   },
   {
    "duration": 893,
    "start_time": "2024-10-16T17:56:35.893Z"
   },
   {
    "duration": 859,
    "start_time": "2024-10-16T17:59:39.496Z"
   },
   {
    "duration": 925,
    "start_time": "2024-10-16T17:59:57.223Z"
   },
   {
    "duration": 1014,
    "start_time": "2024-10-16T18:00:33.758Z"
   },
   {
    "duration": 976,
    "start_time": "2024-10-16T18:00:39.112Z"
   },
   {
    "duration": 965,
    "start_time": "2024-10-16T18:01:03.914Z"
   },
   {
    "duration": 1011,
    "start_time": "2024-10-16T18:01:13.759Z"
   },
   {
    "duration": 1226,
    "start_time": "2024-10-16T18:01:44.092Z"
   },
   {
    "duration": 1259,
    "start_time": "2024-10-16T18:01:51.409Z"
   },
   {
    "duration": 1187,
    "start_time": "2024-10-16T18:02:25.108Z"
   },
   {
    "duration": 1392,
    "start_time": "2024-10-16T18:02:54.809Z"
   },
   {
    "duration": 1141,
    "start_time": "2024-10-16T18:07:49.084Z"
   },
   {
    "duration": 359,
    "start_time": "2024-10-16T18:11:48.324Z"
   },
   {
    "duration": 376,
    "start_time": "2024-10-16T18:12:36.430Z"
   },
   {
    "duration": 6,
    "start_time": "2024-10-16T18:13:04.614Z"
   },
   {
    "duration": 391,
    "start_time": "2024-10-16T18:13:11.660Z"
   },
   {
    "duration": 399,
    "start_time": "2024-10-16T18:13:28.253Z"
   },
   {
    "duration": 412,
    "start_time": "2024-10-16T18:14:20.936Z"
   },
   {
    "duration": 525,
    "start_time": "2024-10-16T18:29:52.730Z"
   },
   {
    "duration": 5,
    "start_time": "2024-10-16T18:29:58.641Z"
   },
   {
    "duration": 520,
    "start_time": "2024-10-16T18:30:07.638Z"
   },
   {
    "duration": 5,
    "start_time": "2024-10-16T18:30:10.534Z"
   },
   {
    "duration": 554,
    "start_time": "2024-10-16T18:30:15.790Z"
   },
   {
    "duration": 5,
    "start_time": "2024-10-16T18:30:18.088Z"
   },
   {
    "duration": 1020,
    "start_time": "2024-10-16T18:35:21.213Z"
   },
   {
    "duration": 13,
    "start_time": "2024-10-16T18:35:22.235Z"
   },
   {
    "duration": 11,
    "start_time": "2024-10-16T18:35:22.249Z"
   },
   {
    "duration": 9,
    "start_time": "2024-10-16T18:35:22.262Z"
   },
   {
    "duration": 6,
    "start_time": "2024-10-16T18:35:22.274Z"
   },
   {
    "duration": 5,
    "start_time": "2024-10-16T18:35:22.281Z"
   },
   {
    "duration": 2,
    "start_time": "2024-10-16T18:35:22.288Z"
   },
   {
    "duration": 6,
    "start_time": "2024-10-16T18:35:22.291Z"
   },
   {
    "duration": 49,
    "start_time": "2024-10-16T18:35:22.298Z"
   },
   {
    "duration": 33,
    "start_time": "2024-10-16T18:35:22.349Z"
   },
   {
    "duration": 12,
    "start_time": "2024-10-16T18:35:22.384Z"
   },
   {
    "duration": 4,
    "start_time": "2024-10-16T18:35:22.397Z"
   },
   {
    "duration": 2490,
    "start_time": "2024-10-16T18:35:22.402Z"
   },
   {
    "duration": 1244,
    "start_time": "2024-10-16T18:35:24.895Z"
   },
   {
    "duration": 441,
    "start_time": "2024-10-16T18:35:26.141Z"
   },
   {
    "duration": 7,
    "start_time": "2024-10-16T18:35:26.584Z"
   },
   {
    "duration": 86836,
    "start_time": "2024-10-16T18:35:26.592Z"
   },
   {
    "duration": 614,
    "start_time": "2024-10-16T18:36:53.430Z"
   },
   {
    "duration": 5,
    "start_time": "2024-10-16T18:36:54.046Z"
   },
   {
    "duration": 141,
    "start_time": "2024-10-16T18:42:17.715Z"
   },
   {
    "duration": 366,
    "start_time": "2024-10-16T18:43:03.957Z"
   },
   {
    "duration": 453,
    "start_time": "2024-10-16T18:43:43.702Z"
   },
   {
    "duration": 3,
    "start_time": "2024-10-16T18:44:43.358Z"
   },
   {
    "duration": 1290,
    "start_time": "2024-10-16T19:59:46.747Z"
   },
   {
    "duration": 1075,
    "start_time": "2024-10-16T20:00:59.161Z"
   },
   {
    "duration": 12,
    "start_time": "2024-10-16T20:01:00.239Z"
   },
   {
    "duration": 9,
    "start_time": "2024-10-16T20:01:00.253Z"
   },
   {
    "duration": 9,
    "start_time": "2024-10-16T20:01:00.264Z"
   },
   {
    "duration": 4,
    "start_time": "2024-10-16T20:01:00.276Z"
   },
   {
    "duration": 6,
    "start_time": "2024-10-16T20:01:00.282Z"
   },
   {
    "duration": 93,
    "start_time": "2024-10-16T20:01:00.290Z"
   },
   {
    "duration": 5,
    "start_time": "2024-10-16T20:01:00.385Z"
   },
   {
    "duration": 7,
    "start_time": "2024-10-16T20:01:00.392Z"
   },
   {
    "duration": 33,
    "start_time": "2024-10-16T20:01:00.400Z"
   },
   {
    "duration": 12,
    "start_time": "2024-10-16T20:01:00.435Z"
   },
   {
    "duration": 4,
    "start_time": "2024-10-16T20:01:00.449Z"
   },
   {
    "duration": 2517,
    "start_time": "2024-10-16T20:01:00.454Z"
   },
   {
    "duration": 1266,
    "start_time": "2024-10-16T20:01:02.977Z"
   },
   {
    "duration": 458,
    "start_time": "2024-10-16T20:01:04.245Z"
   },
   {
    "duration": 5,
    "start_time": "2024-10-16T20:01:04.705Z"
   },
   {
    "duration": 87459,
    "start_time": "2024-10-16T20:01:04.712Z"
   },
   {
    "duration": 583,
    "start_time": "2024-10-16T20:02:32.173Z"
   },
   {
    "duration": 6,
    "start_time": "2024-10-16T20:02:32.758Z"
   },
   {
    "duration": 2828,
    "start_time": "2024-10-17T00:11:36.165Z"
   },
   {
    "duration": 21,
    "start_time": "2024-10-17T00:11:38.995Z"
   },
   {
    "duration": 10,
    "start_time": "2024-10-17T00:11:39.017Z"
   },
   {
    "duration": 9,
    "start_time": "2024-10-17T00:11:39.029Z"
   },
   {
    "duration": 4,
    "start_time": "2024-10-17T00:11:39.041Z"
   },
   {
    "duration": 5,
    "start_time": "2024-10-17T00:11:39.046Z"
   },
   {
    "duration": 5,
    "start_time": "2024-10-17T00:11:39.052Z"
   },
   {
    "duration": 7,
    "start_time": "2024-10-17T00:11:39.058Z"
   },
   {
    "duration": 65,
    "start_time": "2024-10-17T00:11:39.066Z"
   },
   {
    "duration": 11,
    "start_time": "2024-10-17T00:11:39.132Z"
   },
   {
    "duration": 4,
    "start_time": "2024-10-17T00:11:39.144Z"
   },
   {
    "duration": 2445,
    "start_time": "2024-10-17T00:11:39.149Z"
   },
   {
    "duration": 1168,
    "start_time": "2024-10-17T00:11:41.596Z"
   },
   {
    "duration": 424,
    "start_time": "2024-10-17T00:11:42.768Z"
   },
   {
    "duration": 7,
    "start_time": "2024-10-17T00:11:43.194Z"
   },
   {
    "duration": 86204,
    "start_time": "2024-10-17T00:11:43.203Z"
   },
   {
    "duration": 423,
    "start_time": "2024-10-17T00:13:09.409Z"
   },
   {
    "duration": 5,
    "start_time": "2024-10-17T00:13:09.834Z"
   },
   {
    "duration": 999,
    "start_time": "2024-10-17T01:28:33.220Z"
   },
   {
    "duration": 12,
    "start_time": "2024-10-17T01:28:34.221Z"
   },
   {
    "duration": 10,
    "start_time": "2024-10-17T01:28:34.234Z"
   },
   {
    "duration": 10,
    "start_time": "2024-10-17T01:28:34.246Z"
   },
   {
    "duration": 4,
    "start_time": "2024-10-17T01:28:34.259Z"
   },
   {
    "duration": 5,
    "start_time": "2024-10-17T01:28:34.264Z"
   },
   {
    "duration": 5,
    "start_time": "2024-10-17T01:28:34.270Z"
   },
   {
    "duration": 6,
    "start_time": "2024-10-17T01:28:34.276Z"
   },
   {
    "duration": 46,
    "start_time": "2024-10-17T01:28:34.324Z"
   },
   {
    "duration": 15,
    "start_time": "2024-10-17T01:28:34.372Z"
   },
   {
    "duration": 4,
    "start_time": "2024-10-17T01:28:34.390Z"
   },
   {
    "duration": 2477,
    "start_time": "2024-10-17T01:28:34.395Z"
   },
   {
    "duration": 1341,
    "start_time": "2024-10-17T01:28:36.875Z"
   },
   {
    "duration": 459,
    "start_time": "2024-10-17T01:28:38.220Z"
   },
   {
    "duration": 6,
    "start_time": "2024-10-17T01:28:38.680Z"
   },
   {
    "duration": 1017,
    "start_time": "2024-10-17T01:33:50.322Z"
   },
   {
    "duration": 20,
    "start_time": "2024-10-17T01:33:51.342Z"
   },
   {
    "duration": 11,
    "start_time": "2024-10-17T01:33:51.364Z"
   },
   {
    "duration": 15,
    "start_time": "2024-10-17T01:33:51.377Z"
   },
   {
    "duration": 4,
    "start_time": "2024-10-17T01:33:51.394Z"
   },
   {
    "duration": 4,
    "start_time": "2024-10-17T01:33:51.401Z"
   },
   {
    "duration": 6,
    "start_time": "2024-10-17T01:33:51.408Z"
   },
   {
    "duration": 6,
    "start_time": "2024-10-17T01:33:51.416Z"
   },
   {
    "duration": 70,
    "start_time": "2024-10-17T01:33:51.424Z"
   },
   {
    "duration": 11,
    "start_time": "2024-10-17T01:33:51.499Z"
   },
   {
    "duration": 5,
    "start_time": "2024-10-17T01:33:51.512Z"
   },
   {
    "duration": 2646,
    "start_time": "2024-10-17T01:33:51.519Z"
   },
   {
    "duration": 1303,
    "start_time": "2024-10-17T01:33:54.167Z"
   },
   {
    "duration": 447,
    "start_time": "2024-10-17T01:33:55.473Z"
   },
   {
    "duration": 7,
    "start_time": "2024-10-17T01:33:55.922Z"
   },
   {
    "duration": 92743,
    "start_time": "2024-10-17T01:33:55.931Z"
   },
   {
    "duration": 518,
    "start_time": "2024-10-17T01:35:28.676Z"
   },
   {
    "duration": 7,
    "start_time": "2024-10-17T01:35:29.199Z"
   }
  ],
  "kernelspec": {
   "display_name": "Python 3 (ipykernel)",
   "language": "python",
   "name": "python3"
  },
  "language_info": {
   "codemirror_mode": {
    "name": "ipython",
    "version": 3
   },
   "file_extension": ".py",
   "mimetype": "text/x-python",
   "name": "python",
   "nbconvert_exporter": "python",
   "pygments_lexer": "ipython3",
   "version": "3.11.7"
  },
  "toc": {
   "base_numbering": 1,
   "nav_menu": {},
   "number_sections": true,
   "sideBar": true,
   "skip_h1_title": true,
   "title_cell": "Table of Contents",
   "title_sidebar": "Contents",
   "toc_cell": false,
   "toc_position": {
    "height": "calc(100% - 180px)",
    "left": "10px",
    "top": "150px",
    "width": "165px"
   },
   "toc_section_display": true,
   "toc_window_display": true
  }
 },
 "nbformat": 4,
 "nbformat_minor": 4
}
